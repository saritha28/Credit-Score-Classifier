{
 "cells": [
  {
   "cell_type": "markdown",
   "metadata": {},
   "source": [
    "# Importing Libraries"
   ]
  },
  {
   "cell_type": "code",
   "execution_count": 16,
   "metadata": {},
   "outputs": [],
   "source": [
    "import pandas as pd\n",
    "import numpy as np\n",
    "import matplotlib.pyplot as plt\n",
    "import seaborn as sns"
   ]
  },
  {
   "cell_type": "markdown",
   "metadata": {},
   "source": [
    "# Loading Data"
   ]
  },
  {
   "cell_type": "code",
   "execution_count": 17,
   "metadata": {},
   "outputs": [
    {
     "name": "stderr",
     "output_type": "stream",
     "text": [
      "C:\\Common Files\\New folder\\lib\\site-packages\\IPython\\core\\interactiveshell.py:3326: DtypeWarning: Columns (26) have mixed types.Specify dtype option on import or set low_memory=False.\n",
      "  exec(code_obj, self.user_global_ns, self.user_ns)\n"
     ]
    }
   ],
   "source": [
    "df=pd.read_csv(\"C:\\\\Users\\\\sarit\\\\Downloads\\\\Algorithms_projects\\\\train.csv\")"
   ]
  },
  {
   "cell_type": "code",
   "execution_count": 18,
   "metadata": {},
   "outputs": [
    {
     "data": {
      "text/html": [
       "<div>\n",
       "<style scoped>\n",
       "    .dataframe tbody tr th:only-of-type {\n",
       "        vertical-align: middle;\n",
       "    }\n",
       "\n",
       "    .dataframe tbody tr th {\n",
       "        vertical-align: top;\n",
       "    }\n",
       "\n",
       "    .dataframe thead th {\n",
       "        text-align: right;\n",
       "    }\n",
       "</style>\n",
       "<table border=\"1\" class=\"dataframe\">\n",
       "  <thead>\n",
       "    <tr style=\"text-align: right;\">\n",
       "      <th></th>\n",
       "      <th>ID</th>\n",
       "      <th>Customer_ID</th>\n",
       "      <th>Month</th>\n",
       "      <th>Name</th>\n",
       "      <th>Age</th>\n",
       "      <th>SSN</th>\n",
       "      <th>Occupation</th>\n",
       "      <th>Annual_Income</th>\n",
       "      <th>Monthly_Inhand_Salary</th>\n",
       "      <th>Num_Bank_Accounts</th>\n",
       "      <th>...</th>\n",
       "      <th>Credit_Mix</th>\n",
       "      <th>Outstanding_Debt</th>\n",
       "      <th>Credit_Utilization_Ratio</th>\n",
       "      <th>Credit_History_Age</th>\n",
       "      <th>Payment_of_Min_Amount</th>\n",
       "      <th>Total_EMI_per_month</th>\n",
       "      <th>Amount_invested_monthly</th>\n",
       "      <th>Payment_Behaviour</th>\n",
       "      <th>Monthly_Balance</th>\n",
       "      <th>Credit_Score</th>\n",
       "    </tr>\n",
       "  </thead>\n",
       "  <tbody>\n",
       "    <tr>\n",
       "      <th>0</th>\n",
       "      <td>0x1602</td>\n",
       "      <td>CUS_0xd40</td>\n",
       "      <td>January</td>\n",
       "      <td>Aaron Maashoh</td>\n",
       "      <td>23</td>\n",
       "      <td>821-00-0265</td>\n",
       "      <td>Scientist</td>\n",
       "      <td>19114.12</td>\n",
       "      <td>1824.843333</td>\n",
       "      <td>3</td>\n",
       "      <td>...</td>\n",
       "      <td>_</td>\n",
       "      <td>809.98</td>\n",
       "      <td>26.822620</td>\n",
       "      <td>22 Years and 1 Months</td>\n",
       "      <td>No</td>\n",
       "      <td>49.574949</td>\n",
       "      <td>80.41529543900253</td>\n",
       "      <td>High_spent_Small_value_payments</td>\n",
       "      <td>312.49408867943663</td>\n",
       "      <td>Good</td>\n",
       "    </tr>\n",
       "    <tr>\n",
       "      <th>1</th>\n",
       "      <td>0x1603</td>\n",
       "      <td>CUS_0xd40</td>\n",
       "      <td>February</td>\n",
       "      <td>Aaron Maashoh</td>\n",
       "      <td>23</td>\n",
       "      <td>821-00-0265</td>\n",
       "      <td>Scientist</td>\n",
       "      <td>19114.12</td>\n",
       "      <td>NaN</td>\n",
       "      <td>3</td>\n",
       "      <td>...</td>\n",
       "      <td>Good</td>\n",
       "      <td>809.98</td>\n",
       "      <td>31.944960</td>\n",
       "      <td>NaN</td>\n",
       "      <td>No</td>\n",
       "      <td>49.574949</td>\n",
       "      <td>118.28022162236736</td>\n",
       "      <td>Low_spent_Large_value_payments</td>\n",
       "      <td>284.62916249607184</td>\n",
       "      <td>Good</td>\n",
       "    </tr>\n",
       "    <tr>\n",
       "      <th>2</th>\n",
       "      <td>0x1604</td>\n",
       "      <td>CUS_0xd40</td>\n",
       "      <td>March</td>\n",
       "      <td>Aaron Maashoh</td>\n",
       "      <td>-500</td>\n",
       "      <td>821-00-0265</td>\n",
       "      <td>Scientist</td>\n",
       "      <td>19114.12</td>\n",
       "      <td>NaN</td>\n",
       "      <td>3</td>\n",
       "      <td>...</td>\n",
       "      <td>Good</td>\n",
       "      <td>809.98</td>\n",
       "      <td>28.609352</td>\n",
       "      <td>22 Years and 3 Months</td>\n",
       "      <td>No</td>\n",
       "      <td>49.574949</td>\n",
       "      <td>81.699521264648</td>\n",
       "      <td>Low_spent_Medium_value_payments</td>\n",
       "      <td>331.2098628537912</td>\n",
       "      <td>Good</td>\n",
       "    </tr>\n",
       "    <tr>\n",
       "      <th>3</th>\n",
       "      <td>0x1605</td>\n",
       "      <td>CUS_0xd40</td>\n",
       "      <td>April</td>\n",
       "      <td>Aaron Maashoh</td>\n",
       "      <td>23</td>\n",
       "      <td>821-00-0265</td>\n",
       "      <td>Scientist</td>\n",
       "      <td>19114.12</td>\n",
       "      <td>NaN</td>\n",
       "      <td>3</td>\n",
       "      <td>...</td>\n",
       "      <td>Good</td>\n",
       "      <td>809.98</td>\n",
       "      <td>31.377862</td>\n",
       "      <td>22 Years and 4 Months</td>\n",
       "      <td>No</td>\n",
       "      <td>49.574949</td>\n",
       "      <td>199.4580743910713</td>\n",
       "      <td>Low_spent_Small_value_payments</td>\n",
       "      <td>223.45130972736786</td>\n",
       "      <td>Good</td>\n",
       "    </tr>\n",
       "    <tr>\n",
       "      <th>4</th>\n",
       "      <td>0x1606</td>\n",
       "      <td>CUS_0xd40</td>\n",
       "      <td>May</td>\n",
       "      <td>Aaron Maashoh</td>\n",
       "      <td>23</td>\n",
       "      <td>821-00-0265</td>\n",
       "      <td>Scientist</td>\n",
       "      <td>19114.12</td>\n",
       "      <td>1824.843333</td>\n",
       "      <td>3</td>\n",
       "      <td>...</td>\n",
       "      <td>Good</td>\n",
       "      <td>809.98</td>\n",
       "      <td>24.797347</td>\n",
       "      <td>22 Years and 5 Months</td>\n",
       "      <td>No</td>\n",
       "      <td>49.574949</td>\n",
       "      <td>41.420153086217326</td>\n",
       "      <td>High_spent_Medium_value_payments</td>\n",
       "      <td>341.48923103222177</td>\n",
       "      <td>Good</td>\n",
       "    </tr>\n",
       "  </tbody>\n",
       "</table>\n",
       "<p>5 rows × 28 columns</p>\n",
       "</div>"
      ],
      "text/plain": [
       "       ID Customer_ID     Month           Name   Age          SSN Occupation  \\\n",
       "0  0x1602   CUS_0xd40   January  Aaron Maashoh    23  821-00-0265  Scientist   \n",
       "1  0x1603   CUS_0xd40  February  Aaron Maashoh    23  821-00-0265  Scientist   \n",
       "2  0x1604   CUS_0xd40     March  Aaron Maashoh  -500  821-00-0265  Scientist   \n",
       "3  0x1605   CUS_0xd40     April  Aaron Maashoh    23  821-00-0265  Scientist   \n",
       "4  0x1606   CUS_0xd40       May  Aaron Maashoh    23  821-00-0265  Scientist   \n",
       "\n",
       "  Annual_Income  Monthly_Inhand_Salary  Num_Bank_Accounts  ...  Credit_Mix  \\\n",
       "0      19114.12            1824.843333                  3  ...           _   \n",
       "1      19114.12                    NaN                  3  ...        Good   \n",
       "2      19114.12                    NaN                  3  ...        Good   \n",
       "3      19114.12                    NaN                  3  ...        Good   \n",
       "4      19114.12            1824.843333                  3  ...        Good   \n",
       "\n",
       "   Outstanding_Debt Credit_Utilization_Ratio     Credit_History_Age  \\\n",
       "0            809.98                26.822620  22 Years and 1 Months   \n",
       "1            809.98                31.944960                    NaN   \n",
       "2            809.98                28.609352  22 Years and 3 Months   \n",
       "3            809.98                31.377862  22 Years and 4 Months   \n",
       "4            809.98                24.797347  22 Years and 5 Months   \n",
       "\n",
       "   Payment_of_Min_Amount Total_EMI_per_month Amount_invested_monthly  \\\n",
       "0                     No           49.574949       80.41529543900253   \n",
       "1                     No           49.574949      118.28022162236736   \n",
       "2                     No           49.574949         81.699521264648   \n",
       "3                     No           49.574949       199.4580743910713   \n",
       "4                     No           49.574949      41.420153086217326   \n",
       "\n",
       "                  Payment_Behaviour     Monthly_Balance Credit_Score  \n",
       "0   High_spent_Small_value_payments  312.49408867943663         Good  \n",
       "1    Low_spent_Large_value_payments  284.62916249607184         Good  \n",
       "2   Low_spent_Medium_value_payments   331.2098628537912         Good  \n",
       "3    Low_spent_Small_value_payments  223.45130972736786         Good  \n",
       "4  High_spent_Medium_value_payments  341.48923103222177         Good  \n",
       "\n",
       "[5 rows x 28 columns]"
      ]
     },
     "execution_count": 18,
     "metadata": {},
     "output_type": "execute_result"
    }
   ],
   "source": [
    "df.head()"
   ]
  },
  {
   "cell_type": "code",
   "execution_count": 19,
   "metadata": {},
   "outputs": [
    {
     "data": {
      "text/plain": [
       "0"
      ]
     },
     "execution_count": 19,
     "metadata": {},
     "output_type": "execute_result"
    }
   ],
   "source": [
    "df.duplicated().sum()"
   ]
  },
  {
   "cell_type": "code",
   "execution_count": 20,
   "metadata": {},
   "outputs": [
    {
     "data": {
      "text/plain": [
       "ID                           object\n",
       "Customer_ID                  object\n",
       "Month                        object\n",
       "Name                         object\n",
       "Age                          object\n",
       "SSN                          object\n",
       "Occupation                   object\n",
       "Annual_Income                object\n",
       "Monthly_Inhand_Salary       float64\n",
       "Num_Bank_Accounts             int64\n",
       "Num_Credit_Card               int64\n",
       "Interest_Rate                 int64\n",
       "Num_of_Loan                  object\n",
       "Type_of_Loan                 object\n",
       "Delay_from_due_date           int64\n",
       "Num_of_Delayed_Payment       object\n",
       "Changed_Credit_Limit         object\n",
       "Num_Credit_Inquiries        float64\n",
       "Credit_Mix                   object\n",
       "Outstanding_Debt             object\n",
       "Credit_Utilization_Ratio    float64\n",
       "Credit_History_Age           object\n",
       "Payment_of_Min_Amount        object\n",
       "Total_EMI_per_month         float64\n",
       "Amount_invested_monthly      object\n",
       "Payment_Behaviour            object\n",
       "Monthly_Balance              object\n",
       "Credit_Score                 object\n",
       "dtype: object"
      ]
     },
     "execution_count": 20,
     "metadata": {},
     "output_type": "execute_result"
    }
   ],
   "source": [
    "df.dtypes"
   ]
  },
  {
   "cell_type": "code",
   "execution_count": 21,
   "metadata": {},
   "outputs": [
    {
     "data": {
      "text/html": [
       "<div>\n",
       "<style scoped>\n",
       "    .dataframe tbody tr th:only-of-type {\n",
       "        vertical-align: middle;\n",
       "    }\n",
       "\n",
       "    .dataframe tbody tr th {\n",
       "        vertical-align: top;\n",
       "    }\n",
       "\n",
       "    .dataframe thead th {\n",
       "        text-align: right;\n",
       "    }\n",
       "</style>\n",
       "<table border=\"1\" class=\"dataframe\">\n",
       "  <thead>\n",
       "    <tr style=\"text-align: right;\">\n",
       "      <th></th>\n",
       "      <th>Age</th>\n",
       "    </tr>\n",
       "  </thead>\n",
       "  <tbody>\n",
       "    <tr>\n",
       "      <th>0</th>\n",
       "      <td>23</td>\n",
       "    </tr>\n",
       "    <tr>\n",
       "      <th>1</th>\n",
       "      <td>23</td>\n",
       "    </tr>\n",
       "    <tr>\n",
       "      <th>2</th>\n",
       "      <td>-500</td>\n",
       "    </tr>\n",
       "    <tr>\n",
       "      <th>3</th>\n",
       "      <td>23</td>\n",
       "    </tr>\n",
       "    <tr>\n",
       "      <th>4</th>\n",
       "      <td>23</td>\n",
       "    </tr>\n",
       "    <tr>\n",
       "      <th>...</th>\n",
       "      <td>...</td>\n",
       "    </tr>\n",
       "    <tr>\n",
       "      <th>99995</th>\n",
       "      <td>25</td>\n",
       "    </tr>\n",
       "    <tr>\n",
       "      <th>99996</th>\n",
       "      <td>25</td>\n",
       "    </tr>\n",
       "    <tr>\n",
       "      <th>99997</th>\n",
       "      <td>25</td>\n",
       "    </tr>\n",
       "    <tr>\n",
       "      <th>99998</th>\n",
       "      <td>25</td>\n",
       "    </tr>\n",
       "    <tr>\n",
       "      <th>99999</th>\n",
       "      <td>25</td>\n",
       "    </tr>\n",
       "  </tbody>\n",
       "</table>\n",
       "<p>100000 rows × 1 columns</p>\n",
       "</div>"
      ],
      "text/plain": [
       "        Age\n",
       "0        23\n",
       "1        23\n",
       "2      -500\n",
       "3        23\n",
       "4        23\n",
       "...     ...\n",
       "99995    25\n",
       "99996    25\n",
       "99997    25\n",
       "99998    25\n",
       "99999    25\n",
       "\n",
       "[100000 rows x 1 columns]"
      ]
     },
     "execution_count": 21,
     "metadata": {},
     "output_type": "execute_result"
    }
   ],
   "source": [
    "df[[\"Age\"]]"
   ]
  },
  {
   "cell_type": "markdown",
   "metadata": {},
   "source": [
    "# Data Preprocessing"
   ]
  },
  {
   "cell_type": "code",
   "execution_count": 22,
   "metadata": {},
   "outputs": [],
   "source": [
    "def handleobj(value):\n",
    "    if '_'  in value :\n",
    "        value = value.replace('_','')\n",
    "        return float(value)\n",
    "    elif \"-\" in value:\n",
    "        value=value.replace(\"-\",'')\n",
    "        return float(value)\n",
    "    else:\n",
    "        return float(value)"
   ]
  },
  {
   "cell_type": "code",
   "execution_count": 23,
   "metadata": {},
   "outputs": [],
   "source": [
    "df[\"Age\"]=df[\"Age\"].apply(handleobj)\n"
   ]
  },
  {
   "cell_type": "code",
   "execution_count": 24,
   "metadata": {},
   "outputs": [
    {
     "data": {
      "text/plain": [
       "array([  23.,  500.,   28., ..., 4808., 2263., 1342.])"
      ]
     },
     "execution_count": 24,
     "metadata": {},
     "output_type": "execute_result"
    }
   ],
   "source": [
    "df[\"Age\"].unique()"
   ]
  },
  {
   "cell_type": "code",
   "execution_count": 25,
   "metadata": {},
   "outputs": [
    {
     "data": {
      "text/plain": [
       "Int64Index([    2,    56,   113,   122,   219,   243,   288,   289,   301,\n",
       "              328,\n",
       "            ...\n",
       "            99762, 99776, 99873, 99877, 99908, 99913, 99937, 99950, 99963,\n",
       "            99972],\n",
       "           dtype='int64', length=2776)"
      ]
     },
     "execution_count": 25,
     "metadata": {},
     "output_type": "execute_result"
    }
   ],
   "source": [
    "df.loc[df[\"Age\"]>100].index"
   ]
  },
  {
   "cell_type": "code",
   "execution_count": 26,
   "metadata": {},
   "outputs": [],
   "source": [
    "df.drop(df.loc[df[\"Age\"]>100].index,inplace=True)"
   ]
  },
  {
   "cell_type": "code",
   "execution_count": 27,
   "metadata": {},
   "outputs": [
    {
     "data": {
      "text/plain": [
       "array([ 23.,  28.,  34.,  54.,  55.,  21.,  31.,  33.,  30.,  24.,  44.,\n",
       "        45.,  40.,  41.,  32.,  35.,  36.,  39.,  37.,  20.,  46.,  26.,\n",
       "        42.,  19.,  48.,  38.,  43.,  22.,  16.,  18.,  15.,  27.,  25.,\n",
       "        14.,  17.,  47.,  53.,  56.,  29.,  49.,  51.,  50.,  52.,  99.,\n",
       "       100.,  95.])"
      ]
     },
     "execution_count": 27,
     "metadata": {},
     "output_type": "execute_result"
    }
   ],
   "source": [
    "df[\"Age\"].unique()"
   ]
  },
  {
   "cell_type": "code",
   "execution_count": 28,
   "metadata": {},
   "outputs": [
    {
     "data": {
      "text/plain": [
       "array(['19114.12', '34847.84', '34847.84_', ..., '20002.88', '39628.99',\n",
       "       '39628.99_'], dtype=object)"
      ]
     },
     "execution_count": 28,
     "metadata": {},
     "output_type": "execute_result"
    }
   ],
   "source": [
    "df[\"Annual_Income\"].unique()"
   ]
  },
  {
   "cell_type": "code",
   "execution_count": 29,
   "metadata": {},
   "outputs": [],
   "source": [
    "df[\"Annual_Income\"]=df[\"Annual_Income\"].apply(handleobj)"
   ]
  },
  {
   "cell_type": "code",
   "execution_count": 30,
   "metadata": {},
   "outputs": [
    {
     "data": {
      "text/plain": [
       "array([ 19114.12,  34847.84, 143162.64, ...,  37188.1 ,  20002.88,\n",
       "        39628.99])"
      ]
     },
     "execution_count": 30,
     "metadata": {},
     "output_type": "execute_result"
    }
   ],
   "source": [
    "df[\"Annual_Income\"].unique()"
   ]
  },
  {
   "cell_type": "code",
   "execution_count": 31,
   "metadata": {},
   "outputs": [
    {
     "data": {
      "text/plain": [
       "ID                           object\n",
       "Customer_ID                  object\n",
       "Month                        object\n",
       "Name                         object\n",
       "Age                         float64\n",
       "SSN                          object\n",
       "Occupation                   object\n",
       "Annual_Income               float64\n",
       "Monthly_Inhand_Salary       float64\n",
       "Num_Bank_Accounts             int64\n",
       "Num_Credit_Card               int64\n",
       "Interest_Rate                 int64\n",
       "Num_of_Loan                  object\n",
       "Type_of_Loan                 object\n",
       "Delay_from_due_date           int64\n",
       "Num_of_Delayed_Payment       object\n",
       "Changed_Credit_Limit         object\n",
       "Num_Credit_Inquiries        float64\n",
       "Credit_Mix                   object\n",
       "Outstanding_Debt             object\n",
       "Credit_Utilization_Ratio    float64\n",
       "Credit_History_Age           object\n",
       "Payment_of_Min_Amount        object\n",
       "Total_EMI_per_month         float64\n",
       "Amount_invested_monthly      object\n",
       "Payment_Behaviour            object\n",
       "Monthly_Balance              object\n",
       "Credit_Score                 object\n",
       "dtype: object"
      ]
     },
     "execution_count": 31,
     "metadata": {},
     "output_type": "execute_result"
    }
   ],
   "source": [
    "df.dtypes"
   ]
  },
  {
   "cell_type": "code",
   "execution_count": 32,
   "metadata": {},
   "outputs": [
    {
     "data": {
      "text/plain": [
       "array(['4', '1', '3', '967', '-100', '0', '0_', '2', '3_', '2_', '7', '5',\n",
       "       '5_', '6', '8', '8_', '9', '9_', '4_', '7_', '1_', '1464', '6_',\n",
       "       '622', '352', '1017', '945', '146', '563', '341', '720', '1485',\n",
       "       '49', '737', '1106', '466', '728', '313', '597_', '119', '663',\n",
       "       '640', '92_', '1019', '501', '1302', '39', '716', '848', '931',\n",
       "       '1214', '186', '424', '1001', '1110', '1152', '457', '1433',\n",
       "       '1187', '52', '1480', '1047', '1035', '1347_', '33', '193', '699',\n",
       "       '329', '1451', '484', '649', '995', '545', '684', '1135', '1094',\n",
       "       '1204', '654', '58', '348', '614', '1363', '323', '1406', '1348',\n",
       "       '430', '153', '1461', '905', '1312', '1424', '1154', '95', '1353',\n",
       "       '1228', '819', '1006', '795', '359', '1209', '590', '696', '1185_',\n",
       "       '1465', '911', '70', '816', '1369', '143', '1416', '455', '55',\n",
       "       '1096', '1474', '420', '904', '89', '1259', '527', '1241', '449',\n",
       "       '983', '418', '319', '23', '238', '638', '138', '235_', '280',\n",
       "       '1070', '1484', '274', '494', '1459_', '404', '1354', '1495',\n",
       "       '1391', '601', '1313', '1319', '898', '231', '752', '174', '961',\n",
       "       '1046', '834', '284', '438', '288', '1463', '1151', '719', '198',\n",
       "       '1015', '855', '841', '392', '1444', '103', '1320_', '745', '172',\n",
       "       '252', '630_', '241', '31', '405', '1217', '1030', '1257', '137',\n",
       "       '157', '164', '1088', '1236', '777', '1048', '613', '330', '321',\n",
       "       '952', '939', '562', '1202', '302', '943', '394', '955', '1318',\n",
       "       '936', '781', '100', '1329', '1365', '860', '217', '191', '32',\n",
       "       '282', '351', '1387', '757', '416', '833', '359_', '292', '1225_',\n",
       "       '1227', '639', '859', '243', '267', '510', '332', '996', '597',\n",
       "       '311', '492', '820', '336', '123', '540', '131_', '1311_', '1441',\n",
       "       '895', '891', '50', '940', '935', '596', '29', '1182', '1129_',\n",
       "       '1014', '251', '365', '1447', '742', '1085', '148', '462', '832',\n",
       "       '881', '1225', '1412', '785_', '1127', '910', '538', '999', '733',\n",
       "       '101', '237', '87', '659', '633', '387', '447', '629', '831',\n",
       "       '1384', '621', '1419', '289', '143_', '285', '1393', '1131_',\n",
       "       '1359', '1482', '1189', '1294', '201', '579', '814', '141', '1320',\n",
       "       '581', '1171_', '295', '290', '1181', '433', '679', '1040', '1054',\n",
       "       '1023', '1077', '1457', '1150', '701', '1382', '889', '437', '372',\n",
       "       '1159', '868', '19', '1297', '227_', '190', '809', '1216', '1074',\n",
       "       '571', '520', '1274', '1340', '991', '316', '697', '926', '873',\n",
       "       '1002', '378_', '65', '875', '867', '548', '652', '1372', '606',\n",
       "       '1036', '1300', '17', '1178', '802', '1219_', '1271', '1137',\n",
       "       '1496', '439', '196', '636', '192', '228', '1053', '229', '753',\n",
       "       '1296', '773', '1371', '254', '863', '464', '515', '1160', '1289',\n",
       "       '1298', '799', '182', '574', '527_', '242', '415', '869', '54',\n",
       "       '1265', '656', '275', '778', '208', '147', '350', '507', '463',\n",
       "       '497', '1129', '927', '653', '662', '529', '635', '1027_', '897',\n",
       "       '227', '1345', '924', '696_', '1279', '546', '1210', '526', '300',\n",
       "       '1103', '504', '136', '1400', '78', '686', '1091', '344', '215',\n",
       "       '84', '628', '1470', '968', '1478', '83', '1196', '1307', '1132_',\n",
       "       '1008', '917', '657', '56', '18', '41', '801', '661', '978', '216',\n",
       "       '349', '966'], dtype=object)"
      ]
     },
     "execution_count": 32,
     "metadata": {},
     "output_type": "execute_result"
    }
   ],
   "source": [
    "df[\"Num_of_Loan\"].unique()"
   ]
  },
  {
   "cell_type": "code",
   "execution_count": 33,
   "metadata": {},
   "outputs": [],
   "source": [
    "df[\"Num_of_Loan\"]=df[\"Num_of_Loan\"].apply(handleobj)"
   ]
  },
  {
   "cell_type": "code",
   "execution_count": 34,
   "metadata": {},
   "outputs": [
    {
     "data": {
      "text/plain": [
       "array(['7', nan, '4', '8_', '6', '1', '-1', '3_', '0', '8', '5', '3', '9',\n",
       "       '12', '15', '17', '10', '2', '2_', '14', '11', '20', '22', '13',\n",
       "       '13_', '14_', '16', '12_', '18', '19', '23', '24', '21', '3318',\n",
       "       '3083', '22_', '1338', '26', '11_', '3104', '21_', '25', '10_',\n",
       "       '183_', '1106', '834', '19_', '24_', '17_', '23_', '2672', '20_',\n",
       "       '4_', '2008', '-3', '538', '6_', '1_', '16_', '27', '3478', '2420',\n",
       "       '15_', '707', '708', '26_', '18_', '3815', '9_', '28', '5_', '-2',\n",
       "       '1867', '2250', '1463', '25_', '7_', '2882', '1941', '2655',\n",
       "       '2628', '132', '3069', '306', '0_', '3539', '3684', '1823', '4128',\n",
       "       '1946', '827', '2297', '2566', '904', '182', '929', '3568', '2503',\n",
       "       '1552', '2812', '1697', '3764', '851', '3905', '923', '88', '1668',\n",
       "       '3253', '808', '2689', '3858', '642', '3457', '1402', '1732',\n",
       "       '3154', '847', '3037', '2204', '3103', '1063', '2056', '1282',\n",
       "       '1841', '2569_', '211', '793', '3484', '411', '3491', '2072',\n",
       "       '3050', '1049', '2162', '3402', '2753', '27_', '1718', '1014',\n",
       "       '3260', '3855', '84', '2311', '3251', '1832', '4069', '3010',\n",
       "       '733', '4241', '166', '2461', '1749', '3200', '663_', '2185',\n",
       "       '4161', '3009', '359', '2015', '1523', '594', '1079', '1199',\n",
       "       '186', '1015', '1989', '281', '559', '2165', '1509', '3545', '779',\n",
       "       '192', '4311', '-2_', '2323', '1471', '1538', '3529', '439',\n",
       "       '3456', '3040', '2697', '3179', '1332', '3175', '3112', '829',\n",
       "       '4022', '4023', '531', '1511', '3092', '3191', '2400', '3621',\n",
       "       '3536', '544', '1864', '28_', '142', '2300', '264', '72', '497',\n",
       "       '398', '2222', '3960', '1473', '3043', '4216', '2903', '2658',\n",
       "       '-1_', '4042', '1323_', '2184', '921', '1328', '3404', '2438',\n",
       "       '809', '47', '1996', '4164', '1370', '1204', '2167', '4011',\n",
       "       '2590', '2594', '2533', '1663', '1018', '2919', '3458', '3316',\n",
       "       '2589', '2801', '3355', '2529', '2488', '4266', '1243', '739',\n",
       "       '845', '4107', '1884', '337', '2660', '290', '674', '2450', '3738',\n",
       "       '1792', '2823', '2570', '775', '960', '482', '1706', '2493',\n",
       "       '3623', '3031', '2794_', '2219_', '1849', '3559', '4096', '3726',\n",
       "       '1953', '2657', '4043', '2938', '4384', '1647', '2694', '3533',\n",
       "       '2677', '2413', '-3_', '4139', '2609', '4326', '4211', '823',\n",
       "       '3011', '1608', '2860', '4219', '4047', '1531', '742', '52',\n",
       "       '4024', '1673', '49', '2243', '1685', '1869', '3489', '749',\n",
       "       '1164', '2616', '848_', '4134', '1530', '1502', '4075', '3845',\n",
       "       '1060', '2573', '328', '640', '2585', '2230', '1795', '1180',\n",
       "       '1534', '3739', '3313', '4191', '996', '372', '3340', '3177',\n",
       "       '602', '787', '4135', '3878', '4059', '1218', '1766', '1359',\n",
       "       '3107', '585', '1263', '709', '3632', '4077', '2943', '2793',\n",
       "       '3245', '2317', '1640', '2237_', '3819', '252', '3978', '1498',\n",
       "       '1833', '2737', '1192', '1481', '700', '271', '2286', '273',\n",
       "       '1215', '3944', '2070', '1478', '3749', '871', '2508', '2959',\n",
       "       '130', '294', '3097_', '3511', '415', '2196', '2138', '2149',\n",
       "       '1874', '1553', '3847', '3222', '1222', '2907', '3051', '98',\n",
       "       '1598', '416', '2314', '2955', '1691', '1450', '2021', '1636',\n",
       "       '80', '3708', '195', '320', '2945', '1911', '3416', '3796', '4159',\n",
       "       '2255', '938', '4397', '3776', '2148', '1994', '853', '1178',\n",
       "       '1633', '196', '3864', '714', '1687', '1034', '468', '1337',\n",
       "       '2044', '1541', '3661', '1211', '2645', '2007', '102', '1891',\n",
       "       '3162', '3142', '2566_', '3881', '2728', '2671', '1952', '3580',\n",
       "       '4251', '3840_', '972', '3119', '3502', '4185', '2954', '683',\n",
       "       '1614', '1572', '4302', '3447', '1852', '2131', '1900', '1699',\n",
       "       '133', '2018', '2127', '508', '210', '577', '1664', '2604', '1411',\n",
       "       '2351', '867', '1371', '2352', '1191', '905', '4053', '3869',\n",
       "       '933', '3660', '3300', '3629', '3208', '2142', '2521', '450',\n",
       "       '583', '876', '121', '3919', '2560', '2578', '2060', '813', '1236',\n",
       "       '1489', '4360', '1154', '2544', '4172', '2924', '426', '2768',\n",
       "       '3909', '3951', '2712', '2498', '3171', '1750', '197', '2569',\n",
       "       '265', '4293', '887', '2707', '2397', '4337', '4249', '2751',\n",
       "       '2950', '1859', '107', '2348', '2810', '2873', '1301', '2262',\n",
       "       '1890', '3078', '3268', '2777', '3105', '1278', '3793', '2276',\n",
       "       '2879', '4298', '2141', '223', '2239', '1862', '2756', '1181',\n",
       "       '1184', '2617', '3972', '2334', '3900', '2759', '4169', '2280',\n",
       "       '2492', '2729', '3750', '1825', '309', '2431', '3099', '2080',\n",
       "       '2279', '2666', '3722', '1976', '529', '1985', '3060', '4278',\n",
       "       '3212', '3148', '3467', '4231', '3790', '473', '1536', '3955',\n",
       "       '2324', '2381', '371', '2896', '3880', '2991', '4319', '1061',\n",
       "       '662', '4144', '693', '2006', '2278_', '3751', '1861', '4262',\n",
       "       '2913', '2615', '3492', '800', '3766', '384', '3407', '1087',\n",
       "       '3329', '1086', '2216', '1087_', '2457', '3522', '3274', '3488',\n",
       "       '2854', '238', '351', '3706', '4280', '4095', '2926', '1329',\n",
       "       '3370', '283', '1392', '1743', '2429', '974', '3156', '1133',\n",
       "       '4388', '3243', '4282', '2523', '4281', '3415', '2001', '441',\n",
       "       '94', '3499', '969', '3368', '106', '1004', '3946', '2956', '4324',\n",
       "       '85', '4113', '819', '615', '1172', '2553', '1765', '3495', '2820',\n",
       "       '4239', '4340', '1295_', '2636', '4295', '1653', '1325', '1879',\n",
       "       '1096', '1735', '3584', '1073', '1975', '3827', '2552', '3754',\n",
       "       '2378', '532', '926', '2376', '3636', '3763', '778', '2621', '804',\n",
       "       '2418', '3926', '3861_', '3574', '175', '162', '2834', '3765',\n",
       "       '2354', '523', '2274', '1606', '1443', '1354', '2142_', '1422',\n",
       "       '2278', '1045', '4106', '3155', '666', '659', '3229', '1216',\n",
       "       '2076', '1473_', '2384', '1954', '719', '2534', '4002', '541',\n",
       "       '2875', '4344', '2081', '3894', '1256', '676', '4178', '399', '86',\n",
       "       '1571', '4037', '1967', '4005', '3216', '1150', '2591', '1801',\n",
       "       '3721', '1775', '2260', '2705', '3707', '4292', '1820', '145',\n",
       "       '1480', '1850', '430', '217', '3920_', '1389', '1579', '3391',\n",
       "       '2385', '3336', '3392', '3688', '221', '2047'], dtype=object)"
      ]
     },
     "execution_count": 34,
     "metadata": {},
     "output_type": "execute_result"
    }
   ],
   "source": [
    "df[\"Num_of_Delayed_Payment\"].unique()"
   ]
  },
  {
   "cell_type": "code",
   "execution_count": 35,
   "metadata": {},
   "outputs": [
    {
     "data": {
      "text/plain": [
       "ID                           0.000000\n",
       "Customer_ID                  0.000000\n",
       "Month                        0.000000\n",
       "Name                         9.994446\n",
       "Age                          0.000000\n",
       "SSN                          0.000000\n",
       "Occupation                   0.000000\n",
       "Annual_Income                0.000000\n",
       "Monthly_Inhand_Salary       15.013783\n",
       "Num_Bank_Accounts            0.000000\n",
       "Num_Credit_Card              0.000000\n",
       "Interest_Rate                0.000000\n",
       "Num_of_Loan                  0.000000\n",
       "Type_of_Loan                11.392249\n",
       "Delay_from_due_date          0.000000\n",
       "Num_of_Delayed_Payment       7.018843\n",
       "Changed_Credit_Limit         0.000000\n",
       "Num_Credit_Inquiries         1.960421\n",
       "Credit_Mix                   0.000000\n",
       "Outstanding_Debt             0.000000\n",
       "Credit_Utilization_Ratio     0.000000\n",
       "Credit_History_Age           9.043035\n",
       "Payment_of_Min_Amount        0.000000\n",
       "Total_EMI_per_month          0.000000\n",
       "Amount_invested_monthly      4.468033\n",
       "Payment_Behaviour            0.000000\n",
       "Monthly_Balance              1.212664\n",
       "Credit_Score                 0.000000\n",
       "dtype: float64"
      ]
     },
     "execution_count": 35,
     "metadata": {},
     "output_type": "execute_result"
    }
   ],
   "source": [
    "(df.isna().sum()/df.shape[0])*100"
   ]
  },
  {
   "cell_type": "markdown",
   "metadata": {},
   "source": [
    "# Handling Missing Values"
   ]
  },
  {
   "cell_type": "code",
   "execution_count": 36,
   "metadata": {},
   "outputs": [],
   "source": [
    "df.Monthly_Inhand_Salary.fillna(df.Monthly_Inhand_Salary.median(),inplace=True)"
   ]
  },
  {
   "cell_type": "code",
   "execution_count": 37,
   "metadata": {},
   "outputs": [],
   "source": [
    "df.Type_of_Loan .fillna(df.Type_of_Loan .mode(),inplace=True)"
   ]
  },
  {
   "cell_type": "code",
   "execution_count": 38,
   "metadata": {},
   "outputs": [],
   "source": [
    "df.Num_of_Delayed_Payment.fillna(df.Num_of_Delayed_Payment.mode(),inplace=True)"
   ]
  },
  {
   "cell_type": "code",
   "execution_count": 39,
   "metadata": {},
   "outputs": [],
   "source": [
    "df.dropna(inplace=True)"
   ]
  },
  {
   "cell_type": "code",
   "execution_count": 40,
   "metadata": {},
   "outputs": [
    {
     "data": {
      "text/plain": [
       "ID                          0\n",
       "Customer_ID                 0\n",
       "Month                       0\n",
       "Name                        0\n",
       "Age                         0\n",
       "SSN                         0\n",
       "Occupation                  0\n",
       "Annual_Income               0\n",
       "Monthly_Inhand_Salary       0\n",
       "Num_Bank_Accounts           0\n",
       "Num_Credit_Card             0\n",
       "Interest_Rate               0\n",
       "Num_of_Loan                 0\n",
       "Type_of_Loan                0\n",
       "Delay_from_due_date         0\n",
       "Num_of_Delayed_Payment      0\n",
       "Changed_Credit_Limit        0\n",
       "Num_Credit_Inquiries        0\n",
       "Credit_Mix                  0\n",
       "Outstanding_Debt            0\n",
       "Credit_Utilization_Ratio    0\n",
       "Credit_History_Age          0\n",
       "Payment_of_Min_Amount       0\n",
       "Total_EMI_per_month         0\n",
       "Amount_invested_monthly     0\n",
       "Payment_Behaviour           0\n",
       "Monthly_Balance             0\n",
       "Credit_Score                0\n",
       "dtype: int64"
      ]
     },
     "execution_count": 40,
     "metadata": {},
     "output_type": "execute_result"
    }
   ],
   "source": [
    "df.isna().sum()\n"
   ]
  },
  {
   "cell_type": "code",
   "execution_count": 41,
   "metadata": {
    "scrolled": true
   },
   "outputs": [],
   "source": [
    "df[\"Num_of_Delayed_Payment\"]=df[\"Num_of_Delayed_Payment\"].apply(handleobj)\n"
   ]
  },
  {
   "cell_type": "code",
   "execution_count": 42,
   "metadata": {},
   "outputs": [
    {
     "data": {
      "text/plain": [
       "ID                           object\n",
       "Customer_ID                  object\n",
       "Month                        object\n",
       "Name                         object\n",
       "Age                         float64\n",
       "SSN                          object\n",
       "Occupation                   object\n",
       "Annual_Income               float64\n",
       "Monthly_Inhand_Salary       float64\n",
       "Num_Bank_Accounts             int64\n",
       "Num_Credit_Card               int64\n",
       "Interest_Rate                 int64\n",
       "Num_of_Loan                 float64\n",
       "Type_of_Loan                 object\n",
       "Delay_from_due_date           int64\n",
       "Num_of_Delayed_Payment      float64\n",
       "Changed_Credit_Limit         object\n",
       "Num_Credit_Inquiries        float64\n",
       "Credit_Mix                   object\n",
       "Outstanding_Debt             object\n",
       "Credit_Utilization_Ratio    float64\n",
       "Credit_History_Age           object\n",
       "Payment_of_Min_Amount        object\n",
       "Total_EMI_per_month         float64\n",
       "Amount_invested_monthly      object\n",
       "Payment_Behaviour            object\n",
       "Monthly_Balance              object\n",
       "Credit_Score                 object\n",
       "dtype: object"
      ]
     },
     "execution_count": 42,
     "metadata": {},
     "output_type": "execute_result"
    }
   ],
   "source": [
    "df.dtypes"
   ]
  },
  {
   "cell_type": "code",
   "execution_count": 43,
   "metadata": {},
   "outputs": [
    {
     "data": {
      "text/plain": [
       "array(['11.27', '6.27', '9.27', ..., '-0.6000000000000001',\n",
       "       '12.670000000000002', '25.16'], dtype=object)"
      ]
     },
     "execution_count": 43,
     "metadata": {},
     "output_type": "execute_result"
    }
   ],
   "source": [
    "df[\"Changed_Credit_Limit\"].unique()"
   ]
  },
  {
   "cell_type": "code",
   "execution_count": 44,
   "metadata": {},
   "outputs": [],
   "source": [
    "df[\"Changed_Credit_Limit\"] = pd.to_numeric(df[\"Changed_Credit_Limit\"], errors='coerce')"
   ]
  },
  {
   "cell_type": "code",
   "execution_count": 45,
   "metadata": {
    "scrolled": true
   },
   "outputs": [
    {
     "data": {
      "text/plain": [
       "ID                           object\n",
       "Customer_ID                  object\n",
       "Month                        object\n",
       "Name                         object\n",
       "Age                         float64\n",
       "SSN                          object\n",
       "Occupation                   object\n",
       "Annual_Income               float64\n",
       "Monthly_Inhand_Salary       float64\n",
       "Num_Bank_Accounts             int64\n",
       "Num_Credit_Card               int64\n",
       "Interest_Rate                 int64\n",
       "Num_of_Loan                 float64\n",
       "Type_of_Loan                 object\n",
       "Delay_from_due_date           int64\n",
       "Num_of_Delayed_Payment      float64\n",
       "Changed_Credit_Limit        float64\n",
       "Num_Credit_Inquiries        float64\n",
       "Credit_Mix                   object\n",
       "Outstanding_Debt             object\n",
       "Credit_Utilization_Ratio    float64\n",
       "Credit_History_Age           object\n",
       "Payment_of_Min_Amount        object\n",
       "Total_EMI_per_month         float64\n",
       "Amount_invested_monthly      object\n",
       "Payment_Behaviour            object\n",
       "Monthly_Balance              object\n",
       "Credit_Score                 object\n",
       "dtype: object"
      ]
     },
     "execution_count": 45,
     "metadata": {},
     "output_type": "execute_result"
    }
   ],
   "source": [
    "df.dtypes"
   ]
  },
  {
   "cell_type": "code",
   "execution_count": 46,
   "metadata": {},
   "outputs": [
    {
     "data": {
      "text/plain": [
       "array(['_', 'Good', 'Standard', 'Bad'], dtype=object)"
      ]
     },
     "execution_count": 46,
     "metadata": {},
     "output_type": "execute_result"
    }
   ],
   "source": [
    "df[\"Credit_Mix\"].unique()"
   ]
  },
  {
   "cell_type": "code",
   "execution_count": 47,
   "metadata": {},
   "outputs": [],
   "source": [
    "df.replace(df.loc[df[\"Credit_Mix\"]==\"_\"],df[\"Credit_Mix\"].mode(),inplace=True)"
   ]
  },
  {
   "cell_type": "code",
   "execution_count": 48,
   "metadata": {},
   "outputs": [
    {
     "data": {
      "text/plain": [
       "array(['809.98', '605.03', '1303.01', ..., '3571.7_', '3571.7', '502.38'],\n",
       "      dtype=object)"
      ]
     },
     "execution_count": 48,
     "metadata": {},
     "output_type": "execute_result"
    }
   ],
   "source": [
    "df[\"Outstanding_Debt\"].unique()"
   ]
  },
  {
   "cell_type": "code",
   "execution_count": 49,
   "metadata": {},
   "outputs": [],
   "source": [
    "df[\"Outstanding_Debt\"]=df[\"Outstanding_Debt\"].apply(handleobj)"
   ]
  },
  {
   "cell_type": "code",
   "execution_count": 50,
   "metadata": {},
   "outputs": [
    {
     "data": {
      "text/plain": [
       "array(['22 Years and 1 Months', '22 Years and 4 Months',\n",
       "       '22 Years and 6 Months', '22 Years and 7 Months',\n",
       "       '26 Years and 7 Months', '26 Years and 8 Months',\n",
       "       '26 Years and 9 Months', '26 Years and 10 Months',\n",
       "       '26 Years and 11 Months', '27 Years and 0 Months',\n",
       "       '27 Years and 1 Months', '27 Years and 2 Months',\n",
       "       '17 Years and 9 Months', '18 Years and 1 Months',\n",
       "       '18 Years and 2 Months', '18 Years and 4 Months',\n",
       "       '17 Years and 3 Months', '17 Years and 4 Months',\n",
       "       '17 Years and 5 Months', '17 Years and 6 Months',\n",
       "       '17 Years and 7 Months', '17 Years and 8 Months',\n",
       "       '17 Years and 10 Months', '30 Years and 7 Months',\n",
       "       '30 Years and 8 Months', '30 Years and 9 Months',\n",
       "       '30 Years and 10 Months', '30 Years and 11 Months',\n",
       "       '31 Years and 0 Months', '31 Years and 1 Months',\n",
       "       '31 Years and 2 Months', '14 Years and 8 Months',\n",
       "       '14 Years and 9 Months', '14 Years and 10 Months',\n",
       "       '15 Years and 1 Months', '15 Years and 2 Months',\n",
       "       '21 Years and 5 Months', '21 Years and 6 Months',\n",
       "       '21 Years and 7 Months', '21 Years and 8 Months',\n",
       "       '21 Years and 9 Months', '21 Years and 11 Months',\n",
       "       '26 Years and 6 Months', '19 Years and 3 Months',\n",
       "       '19 Years and 4 Months', '19 Years and 5 Months',\n",
       "       '19 Years and 6 Months', '19 Years and 7 Months',\n",
       "       '19 Years and 8 Months', '25 Years and 5 Months',\n",
       "       '25 Years and 6 Months', '25 Years and 7 Months',\n",
       "       '25 Years and 9 Months', '25 Years and 10 Months',\n",
       "       '25 Years and 11 Months', '27 Years and 3 Months',\n",
       "       '27 Years and 4 Months', '27 Years and 5 Months',\n",
       "       '8 Years and 11 Months', '9 Years and 0 Months',\n",
       "       '9 Years and 2 Months', '9 Years and 3 Months',\n",
       "       '18 Years and 6 Months', '18 Years and 8 Months',\n",
       "       '18 Years and 9 Months', '16 Years and 10 Months',\n",
       "       '16 Years and 11 Months', '17 Years and 1 Months',\n",
       "       '17 Years and 2 Months', '6 Years and 5 Months',\n",
       "       '6 Years and 6 Months', '6 Years and 7 Months',\n",
       "       '6 Years and 8 Months', '6 Years and 10 Months',\n",
       "       '7 Years and 0 Months', '18 Years and 3 Months',\n",
       "       '18 Years and 5 Months', '18 Years and 7 Months',\n",
       "       '10 Years and 2 Months', '10 Years and 3 Months',\n",
       "       '10 Years and 4 Months', '10 Years and 6 Months',\n",
       "       '10 Years and 7 Months', '10 Years and 8 Months',\n",
       "       '12 Years and 4 Months', '12 Years and 7 Months',\n",
       "       '12 Years and 8 Months', '12 Years and 3 Months',\n",
       "       '12 Years and 5 Months', '12 Years and 6 Months',\n",
       "       '13 Years and 8 Months', '13 Years and 11 Months',\n",
       "       '14 Years and 0 Months', '14 Years and 1 Months',\n",
       "       '14 Years and 2 Months', '14 Years and 3 Months',\n",
       "       '19 Years and 2 Months', '19 Years and 9 Months',\n",
       "       '30 Years and 3 Months', '30 Years and 4 Months',\n",
       "       '30 Years and 5 Months', '30 Years and 6 Months',\n",
       "       '8 Years and 9 Months', '8 Years and 10 Months',\n",
       "       '18 Years and 10 Months', '18 Years and 11 Months',\n",
       "       '19 Years and 0 Months', '19 Years and 1 Months',\n",
       "       '8 Years and 8 Months', '9 Years and 1 Months',\n",
       "       '13 Years and 1 Months', '13 Years and 2 Months',\n",
       "       '13 Years and 3 Months', '13 Years and 7 Months',\n",
       "       '21 Years and 10 Months', '22 Years and 0 Months',\n",
       "       '25 Years and 8 Months', '26 Years and 0 Months',\n",
       "       '13 Years and 4 Months', '13 Years and 5 Months',\n",
       "       '13 Years and 6 Months', '13 Years and 9 Months',\n",
       "       '27 Years and 11 Months', '28 Years and 0 Months',\n",
       "       '28 Years and 1 Months', '28 Years and 2 Months',\n",
       "       '28 Years and 3 Months', '28 Years and 5 Months',\n",
       "       '28 Years and 6 Months', '7 Years and 10 Months',\n",
       "       '7 Years and 11 Months', '8 Years and 0 Months',\n",
       "       '8 Years and 2 Months', '8 Years and 3 Months',\n",
       "       '8 Years and 4 Months', '24 Years and 3 Months',\n",
       "       '24 Years and 7 Months', '24 Years and 8 Months',\n",
       "       '1 Years and 3 Months', '1 Years and 4 Months',\n",
       "       '1 Years and 5 Months', '1 Years and 6 Months',\n",
       "       '1 Years and 7 Months', '1 Years and 8 Months',\n",
       "       '11 Years and 2 Months', '11 Years and 4 Months',\n",
       "       '11 Years and 5 Months', '10 Years and 9 Months',\n",
       "       '10 Years and 10 Months', '14 Years and 4 Months',\n",
       "       '14 Years and 5 Months', '14 Years and 6 Months',\n",
       "       '20 Years and 9 Months', '21 Years and 0 Months',\n",
       "       '21 Years and 1 Months', '21 Years and 2 Months',\n",
       "       '21 Years and 3 Months', '0 Years and 4 Months',\n",
       "       '0 Years and 5 Months', '0 Years and 6 Months',\n",
       "       '0 Years and 9 Months', '31 Years and 8 Months',\n",
       "       '31 Years and 9 Months', '31 Years and 11 Months',\n",
       "       '32 Years and 1 Months', '17 Years and 0 Months',\n",
       "       '12 Years and 9 Months', '12 Years and 10 Months',\n",
       "       '12 Years and 11 Months', '13 Years and 0 Months',\n",
       "       '11 Years and 6 Months', '11 Years and 9 Months',\n",
       "       '24 Years and 9 Months', '24 Years and 10 Months',\n",
       "       '24 Years and 11 Months', '25 Years and 1 Months',\n",
       "       '25 Years and 2 Months', '25 Years and 3 Months',\n",
       "       '10 Years and 1 Months', '31 Years and 3 Months',\n",
       "       '31 Years and 5 Months', '31 Years and 6 Months',\n",
       "       '31 Years and 7 Months', '5 Years and 2 Months',\n",
       "       '5 Years and 3 Months', '5 Years and 4 Months',\n",
       "       '5 Years and 5 Months', '5 Years and 6 Months',\n",
       "       '5 Years and 7 Months', '5 Years and 8 Months',\n",
       "       '5 Years and 9 Months', '2 Years and 11 Months',\n",
       "       '3 Years and 0 Months', '3 Years and 1 Months',\n",
       "       '3 Years and 2 Months', '3 Years and 3 Months',\n",
       "       '3 Years and 5 Months', '3 Years and 6 Months',\n",
       "       '24 Years and 4 Months', '24 Years and 6 Months',\n",
       "       '16 Years and 4 Months', '16 Years and 5 Months',\n",
       "       '16 Years and 6 Months', '16 Years and 7 Months',\n",
       "       '16 Years and 8 Months', '16 Years and 9 Months',\n",
       "       '23 Years and 3 Months', '23 Years and 4 Months',\n",
       "       '23 Years and 5 Months', '23 Years and 6 Months',\n",
       "       '8 Years and 5 Months', '8 Years and 7 Months',\n",
       "       '31 Years and 4 Months', '4 Years and 6 Months',\n",
       "       '4 Years and 9 Months', '4 Years and 10 Months',\n",
       "       '4 Years and 11 Months', '5 Years and 0 Months',\n",
       "       '32 Years and 8 Months', '32 Years and 9 Months',\n",
       "       '32 Years and 10 Months', '32 Years and 11 Months',\n",
       "       '33 Years and 0 Months', '33 Years and 2 Months',\n",
       "       '33 Years and 3 Months', '29 Years and 9 Months',\n",
       "       '29 Years and 11 Months', '30 Years and 0 Months',\n",
       "       '30 Years and 2 Months', '26 Years and 2 Months',\n",
       "       '33 Years and 4 Months', '26 Years and 3 Months',\n",
       "       '17 Years and 11 Months', '18 Years and 0 Months',\n",
       "       '7 Years and 6 Months', '7 Years and 7 Months',\n",
       "       '7 Years and 9 Months', '11 Years and 3 Months',\n",
       "       '11 Years and 8 Months', '28 Years and 4 Months',\n",
       "       '28 Years and 7 Months', '28 Years and 8 Months',\n",
       "       '28 Years and 10 Months', '29 Years and 2 Months',\n",
       "       '29 Years and 3 Months', '29 Years and 4 Months',\n",
       "       '29 Years and 5 Months', '29 Years and 6 Months',\n",
       "       '29 Years and 7 Months', '29 Years and 8 Months',\n",
       "       '13 Years and 10 Months', '1 Years and 11 Months',\n",
       "       '33 Years and 1 Months', '33 Years and 6 Months',\n",
       "       '33 Years and 7 Months', '33 Years and 8 Months',\n",
       "       '26 Years and 1 Months', '26 Years and 4 Months',\n",
       "       '28 Years and 9 Months', '29 Years and 1 Months',\n",
       "       '31 Years and 10 Months', '32 Years and 0 Months',\n",
       "       '32 Years and 2 Months', '24 Years and 5 Months',\n",
       "       '5 Years and 10 Months', '5 Years and 11 Months',\n",
       "       '6 Years and 0 Months', '6 Years and 1 Months',\n",
       "       '6 Years and 3 Months', '22 Years and 2 Months',\n",
       "       '20 Years and 2 Months', '20 Years and 3 Months',\n",
       "       '20 Years and 6 Months', '20 Years and 7 Months',\n",
       "       '20 Years and 8 Months', '15 Years and 4 Months',\n",
       "       '15 Years and 6 Months', '15 Years and 7 Months',\n",
       "       '15 Years and 8 Months', '15 Years and 10 Months',\n",
       "       '15 Years and 11 Months', '20 Years and 5 Months',\n",
       "       '2 Years and 3 Months', '2 Years and 4 Months',\n",
       "       '2 Years and 5 Months', '2 Years and 6 Months',\n",
       "       '2 Years and 7 Months', '2 Years and 9 Months',\n",
       "       '2 Years and 10 Months', '5 Years and 1 Months',\n",
       "       '1 Years and 9 Months', '1 Years and 10 Months',\n",
       "       '2 Years and 0 Months', '15 Years and 5 Months',\n",
       "       '16 Years and 3 Months', '9 Years and 4 Months',\n",
       "       '9 Years and 5 Months', '9 Years and 7 Months',\n",
       "       '9 Years and 8 Months', '9 Years and 9 Months',\n",
       "       '27 Years and 7 Months', '27 Years and 8 Months',\n",
       "       '27 Years and 9 Months', '27 Years and 10 Months',\n",
       "       '8 Years and 1 Months', '6 Years and 2 Months',\n",
       "       '11 Years and 11 Months', '12 Years and 0 Months',\n",
       "       '12 Years and 1 Months', '26 Years and 5 Months',\n",
       "       '29 Years and 0 Months', '11 Years and 7 Months',\n",
       "       '11 Years and 10 Months', '21 Years and 4 Months',\n",
       "       '22 Years and 9 Months', '22 Years and 10 Months',\n",
       "       '22 Years and 11 Months', '23 Years and 0 Months',\n",
       "       '23 Years and 1 Months', '23 Years and 2 Months',\n",
       "       '16 Years and 0 Months', '16 Years and 1 Months',\n",
       "       '16 Years and 2 Months', '14 Years and 11 Months',\n",
       "       '15 Years and 0 Months', '20 Years and 4 Months',\n",
       "       '22 Years and 5 Months', '8 Years and 6 Months',\n",
       "       '25 Years and 0 Months', '25 Years and 4 Months',\n",
       "       '15 Years and 3 Months', '15 Years and 9 Months',\n",
       "       '32 Years and 3 Months', '32 Years and 4 Months',\n",
       "       '32 Years and 5 Months', '32 Years and 6 Months',\n",
       "       '33 Years and 5 Months', '6 Years and 11 Months',\n",
       "       '7 Years and 1 Months', '7 Years and 2 Months',\n",
       "       '7 Years and 4 Months', '7 Years and 5 Months',\n",
       "       '23 Years and 7 Months', '23 Years and 8 Months',\n",
       "       '23 Years and 9 Months', '20 Years and 11 Months',\n",
       "       '30 Years and 1 Months', '7 Years and 3 Months',\n",
       "       '22 Years and 3 Months', '9 Years and 10 Months',\n",
       "       '9 Years and 11 Months', '10 Years and 0 Months',\n",
       "       '22 Years and 8 Months', '28 Years and 11 Months',\n",
       "       '2 Years and 2 Months', '23 Years and 10 Months',\n",
       "       '23 Years and 11 Months', '9 Years and 6 Months',\n",
       "       '10 Years and 11 Months', '11 Years and 0 Months',\n",
       "       '11 Years and 1 Months', '7 Years and 8 Months',\n",
       "       '24 Years and 1 Months', '24 Years and 2 Months',\n",
       "       '19 Years and 11 Months', '20 Years and 0 Months',\n",
       "       '20 Years and 1 Months', '27 Years and 6 Months',\n",
       "       '6 Years and 4 Months', '0 Years and 1 Months',\n",
       "       '0 Years and 2 Months', '0 Years and 3 Months',\n",
       "       '0 Years and 7 Months', '0 Years and 8 Months',\n",
       "       '12 Years and 2 Months', '29 Years and 10 Months',\n",
       "       '10 Years and 5 Months', '3 Years and 4 Months',\n",
       "       '3 Years and 8 Months', '4 Years and 7 Months',\n",
       "       '4 Years and 8 Months', '32 Years and 7 Months',\n",
       "       '3 Years and 7 Months', '3 Years and 9 Months',\n",
       "       '3 Years and 10 Months', '6 Years and 9 Months',\n",
       "       '19 Years and 10 Months', '14 Years and 7 Months',\n",
       "       '0 Years and 10 Months', '0 Years and 11 Months',\n",
       "       '1 Years and 0 Months', '1 Years and 1 Months',\n",
       "       '1 Years and 2 Months', '4 Years and 4 Months',\n",
       "       '4 Years and 5 Months', '3 Years and 11 Months',\n",
       "       '4 Years and 1 Months', '4 Years and 3 Months',\n",
       "       '20 Years and 10 Months', '2 Years and 1 Months',\n",
       "       '4 Years and 0 Months', '4 Years and 2 Months',\n",
       "       '24 Years and 0 Months', '2 Years and 8 Months'], dtype=object)"
      ]
     },
     "execution_count": 50,
     "metadata": {},
     "output_type": "execute_result"
    }
   ],
   "source": [
    "df[\"Credit_History_Age\"].unique()"
   ]
  },
  {
   "cell_type": "code",
   "execution_count": 51,
   "metadata": {},
   "outputs": [
    {
     "data": {
      "text/plain": [
       "array(['No', 'NM', 'Yes'], dtype=object)"
      ]
     },
     "execution_count": 51,
     "metadata": {},
     "output_type": "execute_result"
    }
   ],
   "source": [
    "df[\"Payment_of_Min_Amount\"].unique()  "
   ]
  },
  {
   "cell_type": "code",
   "execution_count": null,
   "metadata": {},
   "outputs": [],
   "source": [
    "df[\"Amount_invested_monthly\"].unique()"
   ]
  },
  {
   "cell_type": "markdown",
   "metadata": {},
   "source": [
    "# Data Transformation"
   ]
  },
  {
   "cell_type": "code",
   "execution_count": 53,
   "metadata": {},
   "outputs": [],
   "source": [
    "df[\"Amount_invested_monthly\"] = pd.to_numeric(df[\"Amount_invested_monthly\"], errors='coerce')"
   ]
  },
  {
   "cell_type": "code",
   "execution_count": 54,
   "metadata": {},
   "outputs": [
    {
     "data": {
      "text/plain": [
       "array(['High_spent_Small_value_payments',\n",
       "       'Low_spent_Small_value_payments', '!@9#%8',\n",
       "       'High_spent_Large_value_payments',\n",
       "       'Low_spent_Medium_value_payments',\n",
       "       'High_spent_Medium_value_payments',\n",
       "       'Low_spent_Large_value_payments'], dtype=object)"
      ]
     },
     "execution_count": 54,
     "metadata": {},
     "output_type": "execute_result"
    }
   ],
   "source": [
    "df[\"Payment_Behaviour\"].unique()"
   ]
  },
  {
   "cell_type": "code",
   "execution_count": 55,
   "metadata": {},
   "outputs": [],
   "source": [
    "df.replace(df.loc[df[\"Payment_Behaviour\"]==\"!@9#%8\"],df[\"Payment_Behaviour\"].mode(),inplace=True)"
   ]
  },
  {
   "cell_type": "code",
   "execution_count": 56,
   "metadata": {},
   "outputs": [
    {
     "data": {
      "text/plain": [
       "array(['312.49408867943663', '223.45130972736786', '340.4792117872438',\n",
       "       ..., 496.651610435322, 516.8090832742814, 393.6736955618808],\n",
       "      dtype=object)"
      ]
     },
     "execution_count": 56,
     "metadata": {},
     "output_type": "execute_result"
    }
   ],
   "source": [
    "df[\"Monthly_Balance\"].unique()"
   ]
  },
  {
   "cell_type": "code",
   "execution_count": 57,
   "metadata": {},
   "outputs": [],
   "source": [
    "df[\"Monthly_Balance\"] = pd.to_numeric(df[\"Monthly_Balance\"], errors='coerce')"
   ]
  },
  {
   "cell_type": "code",
   "execution_count": 58,
   "metadata": {},
   "outputs": [
    {
     "data": {
      "text/plain": [
       "ID                           object\n",
       "Customer_ID                  object\n",
       "Month                        object\n",
       "Name                         object\n",
       "Age                         float64\n",
       "SSN                          object\n",
       "Occupation                   object\n",
       "Annual_Income               float64\n",
       "Monthly_Inhand_Salary       float64\n",
       "Num_Bank_Accounts             int64\n",
       "Num_Credit_Card               int64\n",
       "Interest_Rate                 int64\n",
       "Num_of_Loan                 float64\n",
       "Type_of_Loan                 object\n",
       "Delay_from_due_date           int64\n",
       "Num_of_Delayed_Payment      float64\n",
       "Changed_Credit_Limit        float64\n",
       "Num_Credit_Inquiries        float64\n",
       "Credit_Mix                   object\n",
       "Outstanding_Debt            float64\n",
       "Credit_Utilization_Ratio    float64\n",
       "Credit_History_Age           object\n",
       "Payment_of_Min_Amount        object\n",
       "Total_EMI_per_month         float64\n",
       "Amount_invested_monthly     float64\n",
       "Payment_Behaviour            object\n",
       "Monthly_Balance             float64\n",
       "Credit_Score                 object\n",
       "dtype: object"
      ]
     },
     "execution_count": 58,
     "metadata": {},
     "output_type": "execute_result"
    }
   ],
   "source": [
    "df.dtypes"
   ]
  },
  {
   "cell_type": "code",
   "execution_count": 59,
   "metadata": {},
   "outputs": [
    {
     "data": {
      "text/plain": [
       "array(['Good', 'Standard', 'Poor'], dtype=object)"
      ]
     },
     "execution_count": 59,
     "metadata": {},
     "output_type": "execute_result"
    }
   ],
   "source": [
    "df[\"Credit_Score\"].unique()"
   ]
  },
  {
   "cell_type": "markdown",
   "metadata": {},
   "source": [
    "# Exploratory Data Analysis"
   ]
  },
  {
   "cell_type": "code",
   "execution_count": 60,
   "metadata": {},
   "outputs": [
    {
     "data": {
      "text/plain": [
       "<matplotlib.axes._subplots.AxesSubplot at 0x216861e3808>"
      ]
     },
     "execution_count": 60,
     "metadata": {},
     "output_type": "execute_result"
    },
    {
     "data": {
      "image/png": "[encoded data removed]",
      "text/plain": [
       "<Figure size 432x288 with 1 Axes>"
      ]
     },
     "metadata": {
      "needs_background": "light"
     },
     "output_type": "display_data"
    }
   ],
   "source": [
    "sns.countplot(x=df.Credit_Score)"
   ]
  },
  {
   "cell_type": "code",
   "execution_count": 61,
   "metadata": {},
   "outputs": [
    {
     "name": "stderr",
     "output_type": "stream",
     "text": [
      "C:\\Common Files\\New folder\\lib\\site-packages\\ipykernel_launcher.py:1: UserWarning: \n",
      "\n",
      "`distplot` is a deprecated function and will be removed in seaborn v0.14.0.\n",
      "\n",
      "Please adapt your code to use either `displot` (a figure-level function with\n",
      "similar flexibility) or `histplot` (an axes-level function for histograms).\n",
      "\n",
      "For a guide to updating your code to use the new functions, please see\n",
      "https://gist.github.com/mwaskom/de44147ed2974457ad6372750bbe5751\n",
      "\n",
      "  \"\"\"Entry point for launching an IPython kernel.\n",
      "C:\\Common Files\\New folder\\lib\\site-packages\\matplotlib\\cbook\\__init__.py:1402: FutureWarning: Support for multi-dimensional indexing (e.g. `obj[:, None]`) is deprecated and will be removed in a future version.  Convert to a numpy array before indexing instead.\n",
      "  x[:, None]\n",
      "C:\\Common Files\\New folder\\lib\\site-packages\\matplotlib\\axes\\_base.py:276: FutureWarning: Support for multi-dimensional indexing (e.g. `obj[:, None]`) is deprecated and will be removed in a future version.  Convert to a numpy array before indexing instead.\n",
      "  x = x[:, np.newaxis]\n",
      "C:\\Common Files\\New folder\\lib\\site-packages\\matplotlib\\axes\\_base.py:278: FutureWarning: Support for multi-dimensional indexing (e.g. `obj[:, None]`) is deprecated and will be removed in a future version.  Convert to a numpy array before indexing instead.\n",
      "  y = y[:, np.newaxis]\n"
     ]
    },
    {
     "data": {
      "text/plain": [
       "<matplotlib.axes._subplots.AxesSubplot at 0x2168713b688>"
      ]
     },
     "execution_count": 61,
     "metadata": {},
     "output_type": "execute_result"
    },
    {
     "data": {
      "image/png": "[encoded data removed]",
      "text/plain": [
       "<Figure size 432x288 with 1 Axes>"
      ]
     },
     "metadata": {
      "needs_background": "light"
     },
     "output_type": "display_data"
    }
   ],
   "source": [
    "sns.distplot(x=df.Age)"
   ]
  },
  {
   "cell_type": "code",
   "execution_count": 62,
   "metadata": {},
   "outputs": [
    {
     "name": "stderr",
     "output_type": "stream",
     "text": [
      "C:\\Common Files\\New folder\\lib\\site-packages\\ipykernel_launcher.py:1: UserWarning: \n",
      "\n",
      "`distplot` is a deprecated function and will be removed in seaborn v0.14.0.\n",
      "\n",
      "Please adapt your code to use either `displot` (a figure-level function with\n",
      "similar flexibility) or `histplot` (an axes-level function for histograms).\n",
      "\n",
      "For a guide to updating your code to use the new functions, please see\n",
      "https://gist.github.com/mwaskom/de44147ed2974457ad6372750bbe5751\n",
      "\n",
      "  \"\"\"Entry point for launching an IPython kernel.\n",
      "C:\\Common Files\\New folder\\lib\\site-packages\\matplotlib\\cbook\\__init__.py:1402: FutureWarning: Support for multi-dimensional indexing (e.g. `obj[:, None]`) is deprecated and will be removed in a future version.  Convert to a numpy array before indexing instead.\n",
      "  x[:, None]\n",
      "C:\\Common Files\\New folder\\lib\\site-packages\\matplotlib\\axes\\_base.py:276: FutureWarning: Support for multi-dimensional indexing (e.g. `obj[:, None]`) is deprecated and will be removed in a future version.  Convert to a numpy array before indexing instead.\n",
      "  x = x[:, np.newaxis]\n",
      "C:\\Common Files\\New folder\\lib\\site-packages\\matplotlib\\axes\\_base.py:278: FutureWarning: Support for multi-dimensional indexing (e.g. `obj[:, None]`) is deprecated and will be removed in a future version.  Convert to a numpy array before indexing instead.\n",
      "  y = y[:, np.newaxis]\n"
     ]
    },
    {
     "data": {
      "text/plain": [
       "<matplotlib.axes._subplots.AxesSubplot at 0x2168708d048>"
      ]
     },
     "execution_count": 62,
     "metadata": {},
     "output_type": "execute_result"
    },
    {
     "data": {
      "image/png": "[encoded data removed]",
      "text/plain": [
       "<Figure size 432x288 with 1 Axes>"
      ]
     },
     "metadata": {
      "needs_background": "light"
     },
     "output_type": "display_data"
    }
   ],
   "source": [
    "sns.distplot(x=df.Annual_Income)"
   ]
  },
  {
   "cell_type": "code",
   "execution_count": 63,
   "metadata": {},
   "outputs": [
    {
     "data": {
      "text/html": [
       "<div>\n",
       "<style scoped>\n",
       "    .dataframe tbody tr th:only-of-type {\n",
       "        vertical-align: middle;\n",
       "    }\n",
       "\n",
       "    .dataframe tbody tr th {\n",
       "        vertical-align: top;\n",
       "    }\n",
       "\n",
       "    .dataframe thead th {\n",
       "        text-align: right;\n",
       "    }\n",
       "</style>\n",
       "<table border=\"1\" class=\"dataframe\">\n",
       "  <thead>\n",
       "    <tr style=\"text-align: right;\">\n",
       "      <th></th>\n",
       "      <th>ID</th>\n",
       "      <th>Customer_ID</th>\n",
       "      <th>Month</th>\n",
       "      <th>Name</th>\n",
       "      <th>Age</th>\n",
       "      <th>SSN</th>\n",
       "      <th>Occupation</th>\n",
       "      <th>Annual_Income</th>\n",
       "      <th>Monthly_Inhand_Salary</th>\n",
       "      <th>Num_Bank_Accounts</th>\n",
       "      <th>...</th>\n",
       "      <th>Credit_Mix</th>\n",
       "      <th>Outstanding_Debt</th>\n",
       "      <th>Credit_Utilization_Ratio</th>\n",
       "      <th>Credit_History_Age</th>\n",
       "      <th>Payment_of_Min_Amount</th>\n",
       "      <th>Total_EMI_per_month</th>\n",
       "      <th>Amount_invested_monthly</th>\n",
       "      <th>Payment_Behaviour</th>\n",
       "      <th>Monthly_Balance</th>\n",
       "      <th>Credit_Score</th>\n",
       "    </tr>\n",
       "  </thead>\n",
       "  <tbody>\n",
       "    <tr>\n",
       "      <th>0</th>\n",
       "      <td>0x1602</td>\n",
       "      <td>CUS_0xd40</td>\n",
       "      <td>January</td>\n",
       "      <td>Aaron Maashoh</td>\n",
       "      <td>23.0</td>\n",
       "      <td>821-00-0265</td>\n",
       "      <td>Scientist</td>\n",
       "      <td>19114.12</td>\n",
       "      <td>1824.843333</td>\n",
       "      <td>3</td>\n",
       "      <td>...</td>\n",
       "      <td>_</td>\n",
       "      <td>809.98</td>\n",
       "      <td>26.822620</td>\n",
       "      <td>22 Years and 1 Months</td>\n",
       "      <td>No</td>\n",
       "      <td>49.574949</td>\n",
       "      <td>80.415295</td>\n",
       "      <td>High_spent_Small_value_payments</td>\n",
       "      <td>312.494089</td>\n",
       "      <td>Good</td>\n",
       "    </tr>\n",
       "    <tr>\n",
       "      <th>3</th>\n",
       "      <td>0x1605</td>\n",
       "      <td>CUS_0xd40</td>\n",
       "      <td>April</td>\n",
       "      <td>Aaron Maashoh</td>\n",
       "      <td>23.0</td>\n",
       "      <td>821-00-0265</td>\n",
       "      <td>Scientist</td>\n",
       "      <td>19114.12</td>\n",
       "      <td>3095.978333</td>\n",
       "      <td>3</td>\n",
       "      <td>...</td>\n",
       "      <td>Good</td>\n",
       "      <td>809.98</td>\n",
       "      <td>31.377862</td>\n",
       "      <td>22 Years and 4 Months</td>\n",
       "      <td>No</td>\n",
       "      <td>49.574949</td>\n",
       "      <td>199.458074</td>\n",
       "      <td>Low_spent_Small_value_payments</td>\n",
       "      <td>223.451310</td>\n",
       "      <td>Good</td>\n",
       "    </tr>\n",
       "    <tr>\n",
       "      <th>5</th>\n",
       "      <td>0x1607</td>\n",
       "      <td>CUS_0xd40</td>\n",
       "      <td>June</td>\n",
       "      <td>Aaron Maashoh</td>\n",
       "      <td>23.0</td>\n",
       "      <td>821-00-0265</td>\n",
       "      <td>Scientist</td>\n",
       "      <td>19114.12</td>\n",
       "      <td>3095.978333</td>\n",
       "      <td>3</td>\n",
       "      <td>...</td>\n",
       "      <td>Good</td>\n",
       "      <td>809.98</td>\n",
       "      <td>27.262259</td>\n",
       "      <td>22 Years and 6 Months</td>\n",
       "      <td>No</td>\n",
       "      <td>49.574949</td>\n",
       "      <td>62.430172</td>\n",
       "      <td>!@9#%8</td>\n",
       "      <td>340.479212</td>\n",
       "      <td>Good</td>\n",
       "    </tr>\n",
       "    <tr>\n",
       "      <th>6</th>\n",
       "      <td>0x1608</td>\n",
       "      <td>CUS_0xd40</td>\n",
       "      <td>July</td>\n",
       "      <td>Aaron Maashoh</td>\n",
       "      <td>23.0</td>\n",
       "      <td>821-00-0265</td>\n",
       "      <td>Scientist</td>\n",
       "      <td>19114.12</td>\n",
       "      <td>1824.843333</td>\n",
       "      <td>3</td>\n",
       "      <td>...</td>\n",
       "      <td>Good</td>\n",
       "      <td>809.98</td>\n",
       "      <td>22.537593</td>\n",
       "      <td>22 Years and 7 Months</td>\n",
       "      <td>No</td>\n",
       "      <td>49.574949</td>\n",
       "      <td>178.344067</td>\n",
       "      <td>Low_spent_Small_value_payments</td>\n",
       "      <td>244.565317</td>\n",
       "      <td>Good</td>\n",
       "    </tr>\n",
       "    <tr>\n",
       "      <th>8</th>\n",
       "      <td>0x160e</td>\n",
       "      <td>CUS_0x21b1</td>\n",
       "      <td>January</td>\n",
       "      <td>Rick Rothackerj</td>\n",
       "      <td>28.0</td>\n",
       "      <td>004-07-5839</td>\n",
       "      <td>_______</td>\n",
       "      <td>34847.84</td>\n",
       "      <td>3037.986667</td>\n",
       "      <td>2</td>\n",
       "      <td>...</td>\n",
       "      <td>Good</td>\n",
       "      <td>605.03</td>\n",
       "      <td>24.464031</td>\n",
       "      <td>26 Years and 7 Months</td>\n",
       "      <td>No</td>\n",
       "      <td>18.816215</td>\n",
       "      <td>104.291825</td>\n",
       "      <td>Low_spent_Small_value_payments</td>\n",
       "      <td>470.690627</td>\n",
       "      <td>Standard</td>\n",
       "    </tr>\n",
       "  </tbody>\n",
       "</table>\n",
       "<p>5 rows × 28 columns</p>\n",
       "</div>"
      ],
      "text/plain": [
       "       ID Customer_ID    Month             Name   Age          SSN Occupation  \\\n",
       "0  0x1602   CUS_0xd40  January    Aaron Maashoh  23.0  821-00-0265  Scientist   \n",
       "3  0x1605   CUS_0xd40    April    Aaron Maashoh  23.0  821-00-0265  Scientist   \n",
       "5  0x1607   CUS_0xd40     June    Aaron Maashoh  23.0  821-00-0265  Scientist   \n",
       "6  0x1608   CUS_0xd40     July    Aaron Maashoh  23.0  821-00-0265  Scientist   \n",
       "8  0x160e  CUS_0x21b1  January  Rick Rothackerj  28.0  004-07-5839    _______   \n",
       "\n",
       "   Annual_Income  Monthly_Inhand_Salary  Num_Bank_Accounts  ...  Credit_Mix  \\\n",
       "0       19114.12            1824.843333                  3  ...           _   \n",
       "3       19114.12            3095.978333                  3  ...        Good   \n",
       "5       19114.12            3095.978333                  3  ...        Good   \n",
       "6       19114.12            1824.843333                  3  ...        Good   \n",
       "8       34847.84            3037.986667                  2  ...        Good   \n",
       "\n",
       "   Outstanding_Debt  Credit_Utilization_Ratio     Credit_History_Age  \\\n",
       "0            809.98                 26.822620  22 Years and 1 Months   \n",
       "3            809.98                 31.377862  22 Years and 4 Months   \n",
       "5            809.98                 27.262259  22 Years and 6 Months   \n",
       "6            809.98                 22.537593  22 Years and 7 Months   \n",
       "8            605.03                 24.464031  26 Years and 7 Months   \n",
       "\n",
       "   Payment_of_Min_Amount  Total_EMI_per_month  Amount_invested_monthly  \\\n",
       "0                     No            49.574949                80.415295   \n",
       "3                     No            49.574949               199.458074   \n",
       "5                     No            49.574949                62.430172   \n",
       "6                     No            49.574949               178.344067   \n",
       "8                     No            18.816215               104.291825   \n",
       "\n",
       "                 Payment_Behaviour Monthly_Balance  Credit_Score  \n",
       "0  High_spent_Small_value_payments      312.494089          Good  \n",
       "3   Low_spent_Small_value_payments      223.451310          Good  \n",
       "5                           !@9#%8      340.479212          Good  \n",
       "6   Low_spent_Small_value_payments      244.565317          Good  \n",
       "8   Low_spent_Small_value_payments      470.690627      Standard  \n",
       "\n",
       "[5 rows x 28 columns]"
      ]
     },
     "execution_count": 63,
     "metadata": {},
     "output_type": "execute_result"
    }
   ],
   "source": [
    "df.head()\n"
   ]
  },
  {
   "cell_type": "code",
   "execution_count": 64,
   "metadata": {},
   "outputs": [
    {
     "data": {
      "text/plain": [
       "Index(['ID', 'Customer_ID', 'Month', 'Name', 'Age', 'SSN', 'Occupation',\n",
       "       'Annual_Income', 'Monthly_Inhand_Salary', 'Num_Bank_Accounts',\n",
       "       'Num_Credit_Card', 'Interest_Rate', 'Num_of_Loan', 'Type_of_Loan',\n",
       "       'Delay_from_due_date', 'Num_of_Delayed_Payment', 'Changed_Credit_Limit',\n",
       "       'Num_Credit_Inquiries', 'Credit_Mix', 'Outstanding_Debt',\n",
       "       'Credit_Utilization_Ratio', 'Credit_History_Age',\n",
       "       'Payment_of_Min_Amount', 'Total_EMI_per_month',\n",
       "       'Amount_invested_monthly', 'Payment_Behaviour', 'Monthly_Balance',\n",
       "       'Credit_Score'],\n",
       "      dtype='object')"
      ]
     },
     "execution_count": 64,
     "metadata": {},
     "output_type": "execute_result"
    }
   ],
   "source": [
    "df.columns\n"
   ]
  },
  {
   "cell_type": "code",
   "execution_count": 65,
   "metadata": {},
   "outputs": [],
   "source": [
    "#dropping unnecessary columns\n",
    "df.drop(['ID','Customer_ID','Month','Name','SSN','Type_of_Loan','Delay_from_due_date','Payment_Behaviour'],axis=1,inplace=True)"
   ]
  },
  {
   "cell_type": "code",
   "execution_count": 66,
   "metadata": {},
   "outputs": [
    {
     "data": {
      "text/html": [
       "<div>\n",
       "<style scoped>\n",
       "    .dataframe tbody tr th:only-of-type {\n",
       "        vertical-align: middle;\n",
       "    }\n",
       "\n",
       "    .dataframe tbody tr th {\n",
       "        vertical-align: top;\n",
       "    }\n",
       "\n",
       "    .dataframe thead th {\n",
       "        text-align: right;\n",
       "    }\n",
       "</style>\n",
       "<table border=\"1\" class=\"dataframe\">\n",
       "  <thead>\n",
       "    <tr style=\"text-align: right;\">\n",
       "      <th></th>\n",
       "      <th>Age</th>\n",
       "      <th>Occupation</th>\n",
       "      <th>Annual_Income</th>\n",
       "      <th>Monthly_Inhand_Salary</th>\n",
       "      <th>Num_Bank_Accounts</th>\n",
       "      <th>Num_Credit_Card</th>\n",
       "      <th>Interest_Rate</th>\n",
       "      <th>Num_of_Loan</th>\n",
       "      <th>Num_of_Delayed_Payment</th>\n",
       "      <th>Changed_Credit_Limit</th>\n",
       "      <th>Num_Credit_Inquiries</th>\n",
       "      <th>Credit_Mix</th>\n",
       "      <th>Outstanding_Debt</th>\n",
       "      <th>Credit_Utilization_Ratio</th>\n",
       "      <th>Credit_History_Age</th>\n",
       "      <th>Payment_of_Min_Amount</th>\n",
       "      <th>Total_EMI_per_month</th>\n",
       "      <th>Amount_invested_monthly</th>\n",
       "      <th>Monthly_Balance</th>\n",
       "      <th>Credit_Score</th>\n",
       "    </tr>\n",
       "  </thead>\n",
       "  <tbody>\n",
       "    <tr>\n",
       "      <th>0</th>\n",
       "      <td>23.0</td>\n",
       "      <td>Scientist</td>\n",
       "      <td>19114.12</td>\n",
       "      <td>1824.843333</td>\n",
       "      <td>3</td>\n",
       "      <td>4</td>\n",
       "      <td>3</td>\n",
       "      <td>4.0</td>\n",
       "      <td>7.0</td>\n",
       "      <td>11.27</td>\n",
       "      <td>4.0</td>\n",
       "      <td>_</td>\n",
       "      <td>809.98</td>\n",
       "      <td>26.822620</td>\n",
       "      <td>22 Years and 1 Months</td>\n",
       "      <td>No</td>\n",
       "      <td>49.574949</td>\n",
       "      <td>80.415295</td>\n",
       "      <td>312.494089</td>\n",
       "      <td>Good</td>\n",
       "    </tr>\n",
       "    <tr>\n",
       "      <th>3</th>\n",
       "      <td>23.0</td>\n",
       "      <td>Scientist</td>\n",
       "      <td>19114.12</td>\n",
       "      <td>3095.978333</td>\n",
       "      <td>3</td>\n",
       "      <td>4</td>\n",
       "      <td>3</td>\n",
       "      <td>4.0</td>\n",
       "      <td>4.0</td>\n",
       "      <td>6.27</td>\n",
       "      <td>4.0</td>\n",
       "      <td>Good</td>\n",
       "      <td>809.98</td>\n",
       "      <td>31.377862</td>\n",
       "      <td>22 Years and 4 Months</td>\n",
       "      <td>No</td>\n",
       "      <td>49.574949</td>\n",
       "      <td>199.458074</td>\n",
       "      <td>223.451310</td>\n",
       "      <td>Good</td>\n",
       "    </tr>\n",
       "    <tr>\n",
       "      <th>5</th>\n",
       "      <td>23.0</td>\n",
       "      <td>Scientist</td>\n",
       "      <td>19114.12</td>\n",
       "      <td>3095.978333</td>\n",
       "      <td>3</td>\n",
       "      <td>4</td>\n",
       "      <td>3</td>\n",
       "      <td>4.0</td>\n",
       "      <td>4.0</td>\n",
       "      <td>9.27</td>\n",
       "      <td>4.0</td>\n",
       "      <td>Good</td>\n",
       "      <td>809.98</td>\n",
       "      <td>27.262259</td>\n",
       "      <td>22 Years and 6 Months</td>\n",
       "      <td>No</td>\n",
       "      <td>49.574949</td>\n",
       "      <td>62.430172</td>\n",
       "      <td>340.479212</td>\n",
       "      <td>Good</td>\n",
       "    </tr>\n",
       "    <tr>\n",
       "      <th>6</th>\n",
       "      <td>23.0</td>\n",
       "      <td>Scientist</td>\n",
       "      <td>19114.12</td>\n",
       "      <td>1824.843333</td>\n",
       "      <td>3</td>\n",
       "      <td>4</td>\n",
       "      <td>3</td>\n",
       "      <td>4.0</td>\n",
       "      <td>8.0</td>\n",
       "      <td>11.27</td>\n",
       "      <td>4.0</td>\n",
       "      <td>Good</td>\n",
       "      <td>809.98</td>\n",
       "      <td>22.537593</td>\n",
       "      <td>22 Years and 7 Months</td>\n",
       "      <td>No</td>\n",
       "      <td>49.574949</td>\n",
       "      <td>178.344067</td>\n",
       "      <td>244.565317</td>\n",
       "      <td>Good</td>\n",
       "    </tr>\n",
       "    <tr>\n",
       "      <th>8</th>\n",
       "      <td>28.0</td>\n",
       "      <td>_______</td>\n",
       "      <td>34847.84</td>\n",
       "      <td>3037.986667</td>\n",
       "      <td>2</td>\n",
       "      <td>4</td>\n",
       "      <td>6</td>\n",
       "      <td>1.0</td>\n",
       "      <td>4.0</td>\n",
       "      <td>5.42</td>\n",
       "      <td>2.0</td>\n",
       "      <td>Good</td>\n",
       "      <td>605.03</td>\n",
       "      <td>24.464031</td>\n",
       "      <td>26 Years and 7 Months</td>\n",
       "      <td>No</td>\n",
       "      <td>18.816215</td>\n",
       "      <td>104.291825</td>\n",
       "      <td>470.690627</td>\n",
       "      <td>Standard</td>\n",
       "    </tr>\n",
       "  </tbody>\n",
       "</table>\n",
       "</div>"
      ],
      "text/plain": [
       "    Age Occupation  Annual_Income  Monthly_Inhand_Salary  Num_Bank_Accounts  \\\n",
       "0  23.0  Scientist       19114.12            1824.843333                  3   \n",
       "3  23.0  Scientist       19114.12            3095.978333                  3   \n",
       "5  23.0  Scientist       19114.12            3095.978333                  3   \n",
       "6  23.0  Scientist       19114.12            1824.843333                  3   \n",
       "8  28.0    _______       34847.84            3037.986667                  2   \n",
       "\n",
       "   Num_Credit_Card  Interest_Rate  Num_of_Loan  Num_of_Delayed_Payment  \\\n",
       "0                4              3          4.0                     7.0   \n",
       "3                4              3          4.0                     4.0   \n",
       "5                4              3          4.0                     4.0   \n",
       "6                4              3          4.0                     8.0   \n",
       "8                4              6          1.0                     4.0   \n",
       "\n",
       "   Changed_Credit_Limit  Num_Credit_Inquiries Credit_Mix  Outstanding_Debt  \\\n",
       "0                 11.27                   4.0          _            809.98   \n",
       "3                  6.27                   4.0       Good            809.98   \n",
       "5                  9.27                   4.0       Good            809.98   \n",
       "6                 11.27                   4.0       Good            809.98   \n",
       "8                  5.42                   2.0       Good            605.03   \n",
       "\n",
       "   Credit_Utilization_Ratio     Credit_History_Age Payment_of_Min_Amount  \\\n",
       "0                 26.822620  22 Years and 1 Months                    No   \n",
       "3                 31.377862  22 Years and 4 Months                    No   \n",
       "5                 27.262259  22 Years and 6 Months                    No   \n",
       "6                 22.537593  22 Years and 7 Months                    No   \n",
       "8                 24.464031  26 Years and 7 Months                    No   \n",
       "\n",
       "   Total_EMI_per_month  Amount_invested_monthly  Monthly_Balance Credit_Score  \n",
       "0            49.574949                80.415295       312.494089         Good  \n",
       "3            49.574949               199.458074       223.451310         Good  \n",
       "5            49.574949                62.430172       340.479212         Good  \n",
       "6            49.574949               178.344067       244.565317         Good  \n",
       "8            18.816215               104.291825       470.690627     Standard  "
      ]
     },
     "execution_count": 66,
     "metadata": {},
     "output_type": "execute_result"
    }
   ],
   "source": [
    "df.head()"
   ]
  },
  {
   "cell_type": "code",
   "execution_count": 67,
   "metadata": {},
   "outputs": [
    {
     "data": {
      "text/plain": [
       "array(['Scientist', '_______', 'Teacher', 'Engineer', 'Entrepreneur',\n",
       "       'Lawyer', 'Media_Manager', 'Doctor', 'Journalist', 'Manager',\n",
       "       'Mechanic', 'Writer', 'Accountant', 'Architect', 'Musician',\n",
       "       'Developer'], dtype=object)"
      ]
     },
     "execution_count": 67,
     "metadata": {},
     "output_type": "execute_result"
    }
   ],
   "source": [
    "df.Occupation.unique()"
   ]
  },
  {
   "cell_type": "code",
   "execution_count": 68,
   "metadata": {},
   "outputs": [
    {
     "data": {
      "text/plain": [
       "Int64Index([    8,    16,    20,    29,    59,    82,   157,   173,   212,\n",
       "              226,\n",
       "            ...\n",
       "            99672, 99688, 99689, 99760, 99773, 99889, 99912, 99920, 99935,\n",
       "            99989],\n",
       "           dtype='int64', length=4265)"
      ]
     },
     "execution_count": 68,
     "metadata": {},
     "output_type": "execute_result"
    }
   ],
   "source": [
    "df.loc[df[\"Occupation\"]==\"_______\"].index"
   ]
  },
  {
   "cell_type": "code",
   "execution_count": 69,
   "metadata": {},
   "outputs": [],
   "source": [
    "#dropping the blank occupation\n",
    "df.drop(df.loc[df[\"Occupation\"]==\"_______\"].index,inplace=True)"
   ]
  },
  {
   "cell_type": "code",
   "execution_count": 70,
   "metadata": {},
   "outputs": [],
   "source": [
    "x = r'(\\d+) Years and (\\d+) Months'\n",
    "\n",
    "df[['Years', 'Months']] = df['Credit_History_Age'].str.extract(x)\n",
    "\n",
    "\n",
    "df[['Years', 'Months']] = df[['Years', 'Months']].fillna(0).astype(int)"
   ]
  },
  {
   "cell_type": "code",
   "execution_count": 71,
   "metadata": {},
   "outputs": [],
   "source": [
    "df.drop(['Credit_History_Age'],axis=1,inplace=True)"
   ]
  },
  {
   "cell_type": "code",
   "execution_count": 72,
   "metadata": {},
   "outputs": [
    {
     "data": {
      "text/plain": [
       "array(['_', 'Good', 'Standard', 'Bad'], dtype=object)"
      ]
     },
     "execution_count": 72,
     "metadata": {},
     "output_type": "execute_result"
    }
   ],
   "source": [
    "df.Credit_Mix.unique()"
   ]
  },
  {
   "cell_type": "code",
   "execution_count": 73,
   "metadata": {},
   "outputs": [],
   "source": [
    "#\n",
    "df.drop(df.loc[df[\"Credit_Mix\"]==\"_\"].index,inplace=True)"
   ]
  },
  {
   "cell_type": "code",
   "execution_count": 74,
   "metadata": {},
   "outputs": [
    {
     "data": {
      "text/plain": [
       "(44996, 21)"
      ]
     },
     "execution_count": 74,
     "metadata": {},
     "output_type": "execute_result"
    }
   ],
   "source": [
    "df.shape"
   ]
  },
  {
   "cell_type": "code",
   "execution_count": 75,
   "metadata": {},
   "outputs": [
    {
     "data": {
      "text/plain": [
       "Age                         float64\n",
       "Occupation                   object\n",
       "Annual_Income               float64\n",
       "Monthly_Inhand_Salary       float64\n",
       "Num_Bank_Accounts             int64\n",
       "Num_Credit_Card               int64\n",
       "Interest_Rate                 int64\n",
       "Num_of_Loan                 float64\n",
       "Num_of_Delayed_Payment      float64\n",
       "Changed_Credit_Limit        float64\n",
       "Num_Credit_Inquiries        float64\n",
       "Credit_Mix                   object\n",
       "Outstanding_Debt            float64\n",
       "Credit_Utilization_Ratio    float64\n",
       "Payment_of_Min_Amount        object\n",
       "Total_EMI_per_month         float64\n",
       "Amount_invested_monthly     float64\n",
       "Monthly_Balance             float64\n",
       "Credit_Score                 object\n",
       "Years                         int32\n",
       "Months                        int32\n",
       "dtype: object"
      ]
     },
     "execution_count": 75,
     "metadata": {},
     "output_type": "execute_result"
    }
   ],
   "source": [
    "df.dtypes"
   ]
  },
  {
   "cell_type": "code",
   "execution_count": 76,
   "metadata": {},
   "outputs": [
    {
     "data": {
      "text/plain": [
       "array(['No', 'NM', 'Yes'], dtype=object)"
      ]
     },
     "execution_count": 76,
     "metadata": {},
     "output_type": "execute_result"
    }
   ],
   "source": [
    "df.Payment_of_Min_Amount.unique()"
   ]
  },
  {
   "cell_type": "markdown",
   "metadata": {},
   "source": [
    "# One hot encoding "
   ]
  },
  {
   "cell_type": "code",
   "execution_count": 77,
   "metadata": {},
   "outputs": [],
   "source": [
    "from sklearn.preprocessing import LabelEncoder"
   ]
  },
  {
   "cell_type": "code",
   "execution_count": 78,
   "metadata": {},
   "outputs": [],
   "source": [
    "le=LabelEncoder()"
   ]
  },
  {
   "cell_type": "code",
   "execution_count": 79,
   "metadata": {},
   "outputs": [],
   "source": [
    "df[\"Payment_of_Min_Amount\"]=le.fit_transform(df[\"Payment_of_Min_Amount\"])\n",
    "df[\"Occupation\"]=le.fit_transform(df[\"Occupation\"])\n",
    "df[\"Credit_Mix\"]=le.fit_transform(df[\"Credit_Mix\"])"
   ]
  },
  {
   "cell_type": "code",
   "execution_count": 80,
   "metadata": {
    "scrolled": true
   },
   "outputs": [
    {
     "data": {
      "text/plain": [
       "Age                         float64\n",
       "Occupation                    int32\n",
       "Annual_Income               float64\n",
       "Monthly_Inhand_Salary       float64\n",
       "Num_Bank_Accounts             int64\n",
       "Num_Credit_Card               int64\n",
       "Interest_Rate                 int64\n",
       "Num_of_Loan                 float64\n",
       "Num_of_Delayed_Payment      float64\n",
       "Changed_Credit_Limit        float64\n",
       "Num_Credit_Inquiries        float64\n",
       "Credit_Mix                    int32\n",
       "Outstanding_Debt            float64\n",
       "Credit_Utilization_Ratio    float64\n",
       "Payment_of_Min_Amount         int32\n",
       "Total_EMI_per_month         float64\n",
       "Amount_invested_monthly     float64\n",
       "Monthly_Balance             float64\n",
       "Credit_Score                 object\n",
       "Years                         int32\n",
       "Months                        int32\n",
       "dtype: object"
      ]
     },
     "execution_count": 80,
     "metadata": {},
     "output_type": "execute_result"
    }
   ],
   "source": [
    "df.dtypes"
   ]
  },
  {
   "cell_type": "code",
   "execution_count": 81,
   "metadata": {},
   "outputs": [],
   "source": [
    "df.dropna(inplace=True)"
   ]
  },
  {
   "cell_type": "code",
   "execution_count": 82,
   "metadata": {},
   "outputs": [],
   "source": [
    "x=df.drop('Credit_Score',axis=1)\n"
   ]
  },
  {
   "cell_type": "code",
   "execution_count": 83,
   "metadata": {},
   "outputs": [
    {
     "data": {
      "text/plain": [
       "Age                         0\n",
       "Occupation                  0\n",
       "Annual_Income               0\n",
       "Monthly_Inhand_Salary       0\n",
       "Num_Bank_Accounts           0\n",
       "Num_Credit_Card             0\n",
       "Interest_Rate               0\n",
       "Num_of_Loan                 0\n",
       "Num_of_Delayed_Payment      0\n",
       "Changed_Credit_Limit        0\n",
       "Num_Credit_Inquiries        0\n",
       "Credit_Mix                  0\n",
       "Outstanding_Debt            0\n",
       "Credit_Utilization_Ratio    0\n",
       "Payment_of_Min_Amount       0\n",
       "Total_EMI_per_month         0\n",
       "Amount_invested_monthly     0\n",
       "Monthly_Balance             0\n",
       "Years                       0\n",
       "Months                      0\n",
       "dtype: int64"
      ]
     },
     "execution_count": 83,
     "metadata": {},
     "output_type": "execute_result"
    }
   ],
   "source": [
    "x.isna().sum()"
   ]
  },
  {
   "cell_type": "code",
   "execution_count": 84,
   "metadata": {},
   "outputs": [],
   "source": [
    "y=df.Credit_Score"
   ]
  },
  {
   "cell_type": "markdown",
   "metadata": {},
   "source": [
    "# Data Splitting"
   ]
  },
  {
   "cell_type": "code",
   "execution_count": 85,
   "metadata": {},
   "outputs": [],
   "source": [
    "from sklearn.model_selection import train_test_split"
   ]
  },
  {
   "cell_type": "code",
   "execution_count": 86,
   "metadata": {},
   "outputs": [],
   "source": [
    "x_train,x_test,y_train,y_test=train_test_split(x,y,test_size=.2,random_state=51)"
   ]
  },
  {
   "cell_type": "code",
   "execution_count": 87,
   "metadata": {},
   "outputs": [
    {
     "name": "stdout",
     "output_type": "stream",
     "text": [
      "(33632, 20)\n",
      "(8408, 20)\n",
      "(33632,)\n",
      "(8408,)\n"
     ]
    }
   ],
   "source": [
    "print(x_train.shape)\n",
    "print(x_test.shape)\n",
    "print(y_train.shape)\n",
    "print(y_test.shape)"
   ]
  },
  {
   "cell_type": "markdown",
   "metadata": {},
   "source": [
    "# DecisionTree Classification"
   ]
  },
  {
   "cell_type": "code",
   "execution_count": 88,
   "metadata": {},
   "outputs": [],
   "source": [
    "from sklearn.tree import DecisionTreeClassifier"
   ]
  },
  {
   "cell_type": "code",
   "execution_count": 89,
   "metadata": {},
   "outputs": [],
   "source": [
    "#criterion='gini',\n",
    "#max_depth=None,\n",
    "#min_samples_split=2,\n",
    "#min_samples_leaf=1,\n",
    "#max_features=None,\n",
    "#max_leaf_nodes=None,\n",
    "  "
   ]
  },
  {
   "cell_type": "code",
   "execution_count": 90,
   "metadata": {},
   "outputs": [],
   "source": [
    "dt=DecisionTreeClassifier()"
   ]
  },
  {
   "cell_type": "code",
   "execution_count": 91,
   "metadata": {},
   "outputs": [
    {
     "data": {
      "text/plain": [
       "DecisionTreeClassifier()"
      ]
     },
     "execution_count": 91,
     "metadata": {},
     "output_type": "execute_result"
    }
   ],
   "source": [
    "dt.fit(x_train,y_train)  # it is useful to train model"
   ]
  },
  {
   "cell_type": "code",
   "execution_count": 92,
   "metadata": {},
   "outputs": [],
   "source": [
    "pred=dt.predict(x_test)"
   ]
  },
  {
   "cell_type": "code",
   "execution_count": 93,
   "metadata": {},
   "outputs": [
    {
     "data": {
      "text/plain": [
       "array(['Good', 'Good', 'Good', 'Standard', 'Poor'], dtype=object)"
      ]
     },
     "execution_count": 93,
     "metadata": {},
     "output_type": "execute_result"
    }
   ],
   "source": [
    "pred[0:5]"
   ]
  },
  {
   "cell_type": "code",
   "execution_count": 94,
   "metadata": {},
   "outputs": [
    {
     "data": {
      "text/plain": [
       "97448        Good\n",
       "51386    Standard\n",
       "66533    Standard\n",
       "30593    Standard\n",
       "27346        Poor\n",
       "Name: Credit_Score, dtype: object"
      ]
     },
     "execution_count": 94,
     "metadata": {},
     "output_type": "execute_result"
    }
   ],
   "source": [
    "y_test[0:5]"
   ]
  },
  {
   "cell_type": "code",
   "execution_count": 95,
   "metadata": {},
   "outputs": [],
   "source": [
    "from sklearn.metrics import confusion_matrix,classification_report"
   ]
  },
  {
   "cell_type": "code",
   "execution_count": 96,
   "metadata": {},
   "outputs": [
    {
     "name": "stdout",
     "output_type": "stream",
     "text": [
      "[[ 806   87  462]\n",
      " [  65 1749  809]\n",
      " [ 444  780 3206]]\n"
     ]
    }
   ],
   "source": [
    "print(confusion_matrix(pred,y_test))"
   ]
  },
  {
   "cell_type": "code",
   "execution_count": 97,
   "metadata": {},
   "outputs": [
    {
     "name": "stdout",
     "output_type": "stream",
     "text": [
      "              precision    recall  f1-score   support\n",
      "\n",
      "        Good       0.61      0.59      0.60      1355\n",
      "        Poor       0.67      0.67      0.67      2623\n",
      "    Standard       0.72      0.72      0.72      4430\n",
      "\n",
      "    accuracy                           0.69      8408\n",
      "   macro avg       0.67      0.66      0.66      8408\n",
      "weighted avg       0.68      0.69      0.68      8408\n",
      "\n"
     ]
    }
   ],
   "source": [
    "print(classification_report(pred,y_test))"
   ]
  },
  {
   "cell_type": "code",
   "execution_count": 98,
   "metadata": {},
   "outputs": [],
   "source": [
    "dt=DecisionTreeClassifier(criterion=\"entropy\",\n",
    "max_depth=10,\n",
    "min_samples_split=5,\n",
    "min_samples_leaf=1,\n",
    "max_features=10,\n",
    "max_leaf_nodes=None,)"
   ]
  },
  {
   "cell_type": "code",
   "execution_count": 99,
   "metadata": {},
   "outputs": [
    {
     "data": {
      "text/plain": [
       "DecisionTreeClassifier(criterion='entropy', max_depth=10, max_features=10,\n",
       "                       min_samples_split=5)"
      ]
     },
     "execution_count": 99,
     "metadata": {},
     "output_type": "execute_result"
    }
   ],
   "source": [
    "dt.fit(x_train,y_train)"
   ]
  },
  {
   "cell_type": "code",
   "execution_count": 100,
   "metadata": {},
   "outputs": [],
   "source": [
    "pred1=dt.predict(x_test)"
   ]
  },
  {
   "cell_type": "code",
   "execution_count": 101,
   "metadata": {},
   "outputs": [
    {
     "name": "stdout",
     "output_type": "stream",
     "text": [
      "              precision    recall  f1-score   support\n",
      "\n",
      "        Good       0.70      0.52      0.60      1777\n",
      "        Poor       0.63      0.73      0.68      2253\n",
      "    Standard       0.73      0.75      0.74      4378\n",
      "\n",
      "    accuracy                           0.69      8408\n",
      "   macro avg       0.69      0.67      0.67      8408\n",
      "weighted avg       0.70      0.69      0.69      8408\n",
      "\n"
     ]
    }
   ],
   "source": [
    "print(classification_report(pred1,y_test))"
   ]
  },
  {
   "cell_type": "markdown",
   "metadata": {},
   "source": [
    "# Logistic Regression"
   ]
  },
  {
   "cell_type": "code",
   "execution_count": 102,
   "metadata": {},
   "outputs": [],
   "source": [
    "from sklearn.linear_model import LogisticRegression"
   ]
  },
  {
   "cell_type": "code",
   "execution_count": 103,
   "metadata": {},
   "outputs": [],
   "source": [
    "lr=LogisticRegression()"
   ]
  },
  {
   "cell_type": "code",
   "execution_count": 104,
   "metadata": {},
   "outputs": [
    {
     "name": "stderr",
     "output_type": "stream",
     "text": [
      "C:\\Common Files\\New folder\\lib\\site-packages\\sklearn\\linear_model\\_logistic.py:818: ConvergenceWarning: lbfgs failed to converge (status=1):\n",
      "STOP: TOTAL NO. of ITERATIONS REACHED LIMIT.\n",
      "\n",
      "Increase the number of iterations (max_iter) or scale the data as shown in:\n",
      "    https://scikit-learn.org/stable/modules/preprocessing.html\n",
      "Please also refer to the documentation for alternative solver options:\n",
      "    https://scikit-learn.org/stable/modules/linear_model.html#logistic-regression\n",
      "  extra_warning_msg=_LOGISTIC_SOLVER_CONVERGENCE_MSG,\n"
     ]
    },
    {
     "data": {
      "text/plain": [
       "LogisticRegression()"
      ]
     },
     "execution_count": 104,
     "metadata": {},
     "output_type": "execute_result"
    }
   ],
   "source": [
    "lr.fit(x_train,y_train)"
   ]
  },
  {
   "cell_type": "code",
   "execution_count": 105,
   "metadata": {},
   "outputs": [],
   "source": [
    "pred2=lr.predict(x_test)"
   ]
  },
  {
   "cell_type": "code",
   "execution_count": 106,
   "metadata": {},
   "outputs": [
    {
     "name": "stderr",
     "output_type": "stream",
     "text": [
      "C:\\Common Files\\New folder\\lib\\site-packages\\sklearn\\metrics\\_classification.py:1318: UndefinedMetricWarning: Recall and F-score are ill-defined and being set to 0.0 in labels with no true samples. Use `zero_division` parameter to control this behavior.\n",
      "  _warn_prf(average, modifier, msg_start, len(result))\n"
     ]
    },
    {
     "name": "stdout",
     "output_type": "stream",
     "text": [
      "              precision    recall  f1-score   support\n",
      "\n",
      "        Good       0.00      0.00      0.00         0\n",
      "        Poor       0.60      0.52      0.56      3005\n",
      "    Standard       0.70      0.58      0.64      5403\n",
      "\n",
      "    accuracy                           0.56      8408\n",
      "   macro avg       0.43      0.37      0.40      8408\n",
      "weighted avg       0.67      0.56      0.61      8408\n",
      "\n"
     ]
    },
    {
     "name": "stderr",
     "output_type": "stream",
     "text": [
      "C:\\Common Files\\New folder\\lib\\site-packages\\sklearn\\metrics\\_classification.py:1318: UndefinedMetricWarning: Recall and F-score are ill-defined and being set to 0.0 in labels with no true samples. Use `zero_division` parameter to control this behavior.\n",
      "  _warn_prf(average, modifier, msg_start, len(result))\n",
      "C:\\Common Files\\New folder\\lib\\site-packages\\sklearn\\metrics\\_classification.py:1318: UndefinedMetricWarning: Recall and F-score are ill-defined and being set to 0.0 in labels with no true samples. Use `zero_division` parameter to control this behavior.\n",
      "  _warn_prf(average, modifier, msg_start, len(result))\n"
     ]
    }
   ],
   "source": [
    "print(classification_report(pred2,y_test))"
   ]
  },
  {
   "cell_type": "markdown",
   "metadata": {},
   "source": [
    "# Random Forest Classifier"
   ]
  },
  {
   "cell_type": "code",
   "execution_count": 107,
   "metadata": {},
   "outputs": [],
   "source": [
    "from sklearn.ensemble import RandomForestClassifier"
   ]
  },
  {
   "cell_type": "code",
   "execution_count": 108,
   "metadata": {},
   "outputs": [],
   "source": [
    "rf=RandomForestClassifier()"
   ]
  },
  {
   "cell_type": "code",
   "execution_count": 109,
   "metadata": {},
   "outputs": [],
   "source": [
    "#n_estimators=100,\n",
    "#criterion='gini',\n",
    "#max_depth=None,\n",
    "#min_samples_split=2,\n",
    "#min_samples_leaf=1,\n",
    "#max_features='auto',\n",
    "#max_samples=None,\n"
   ]
  },
  {
   "cell_type": "code",
   "execution_count": 110,
   "metadata": {},
   "outputs": [
    {
     "data": {
      "text/plain": [
       "RandomForestClassifier()"
      ]
     },
     "execution_count": 110,
     "metadata": {},
     "output_type": "execute_result"
    }
   ],
   "source": [
    "rf.fit(x_train,y_train)"
   ]
  },
  {
   "cell_type": "code",
   "execution_count": 111,
   "metadata": {},
   "outputs": [],
   "source": [
    "pred=rf.predict(x_test)"
   ]
  },
  {
   "cell_type": "code",
   "execution_count": 112,
   "metadata": {},
   "outputs": [
    {
     "name": "stdout",
     "output_type": "stream",
     "text": [
      "              precision    recall  f1-score   support\n",
      "\n",
      "        Good       0.73      0.71      0.72      1356\n",
      "        Poor       0.77      0.78      0.78      2587\n",
      "    Standard       0.80      0.80      0.80      4465\n",
      "\n",
      "    accuracy                           0.78      8408\n",
      "   macro avg       0.77      0.76      0.77      8408\n",
      "weighted avg       0.78      0.78      0.78      8408\n",
      "\n"
     ]
    }
   ],
   "source": [
    "print(classification_report(pred,y_test))"
   ]
  },
  {
   "cell_type": "code",
   "execution_count": 113,
   "metadata": {},
   "outputs": [],
   "source": [
    "rf=RandomForestClassifier(n_estimators=250,\n",
    "criterion='gini',\n",
    "max_depth=10)"
   ]
  },
  {
   "cell_type": "code",
   "execution_count": 114,
   "metadata": {},
   "outputs": [
    {
     "data": {
      "text/plain": [
       "RandomForestClassifier(max_depth=10, n_estimators=250)"
      ]
     },
     "execution_count": 114,
     "metadata": {},
     "output_type": "execute_result"
    }
   ],
   "source": [
    "rf.fit(x_train,y_train)"
   ]
  },
  {
   "cell_type": "code",
   "execution_count": 115,
   "metadata": {},
   "outputs": [],
   "source": [
    "pred4=rf.predict(x_test)"
   ]
  },
  {
   "cell_type": "code",
   "execution_count": 116,
   "metadata": {},
   "outputs": [
    {
     "name": "stdout",
     "output_type": "stream",
     "text": [
      "              precision    recall  f1-score   support\n",
      "\n",
      "        Good       0.77      0.55      0.64      1844\n",
      "        Poor       0.64      0.76      0.69      2210\n",
      "    Standard       0.75      0.77      0.76      4354\n",
      "\n",
      "    accuracy                           0.72      8408\n",
      "   macro avg       0.72      0.69      0.70      8408\n",
      "weighted avg       0.72      0.72      0.72      8408\n",
      "\n"
     ]
    }
   ],
   "source": [
    "print(classification_report(pred4,y_test))"
   ]
  },
  {
   "cell_type": "markdown",
   "metadata": {},
   "source": [
    "From the Above metrics we can say that the Random Forest is the Best Model with an accuracy of 72%."
   ]
  }
 ],
 "metadata": {
  "kernelspec": {
   "display_name": "Python 3",
   "language": "python",
   "name": "python3"
  },
  "language_info": {
   "codemirror_mode": {
    "name": "ipython",
    "version": 3
   },
   "file_extension": ".py",
   "mimetype": "text/x-python",
   "name": "python",
   "nbconvert_exporter": "python",
   "pygments_lexer": "ipython3",
   "version": "3.7.4"
  }
 },
 "nbformat": 4,
 "nbformat_minor": 5
}
